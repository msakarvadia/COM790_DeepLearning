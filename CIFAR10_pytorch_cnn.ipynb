{
  "nbformat": 4,
  "nbformat_minor": 0,
  "metadata": {
    "colab": {
      "name": "CIFAR10_pytorch_cnn",
      "provenance": [],
      "collapsed_sections": []
    },
    "kernelspec": {
      "name": "python3",
      "display_name": "Python 3"
    },
    "accelerator": "TPU",
    "widgets": {
      "application/vnd.jupyter.widget-state+json": {
        "cd6cd1b11f4e42858c35a90dc61ff271": {
          "model_module": "@jupyter-widgets/controls",
          "model_name": "HBoxModel",
          "state": {
            "_view_name": "HBoxView",
            "_dom_classes": [],
            "_model_name": "HBoxModel",
            "_view_module": "@jupyter-widgets/controls",
            "_model_module_version": "1.5.0",
            "_view_count": null,
            "_view_module_version": "1.5.0",
            "box_style": "",
            "layout": "IPY_MODEL_3de1f789899e4df290927d5502a8c549",
            "_model_module": "@jupyter-widgets/controls",
            "children": [
              "IPY_MODEL_88382c5373604875b9120280e0b355dd",
              "IPY_MODEL_0d0aa621a7814dbdbb657d9b2427c736"
            ]
          }
        },
        "3de1f789899e4df290927d5502a8c549": {
          "model_module": "@jupyter-widgets/base",
          "model_name": "LayoutModel",
          "state": {
            "_view_name": "LayoutView",
            "grid_template_rows": null,
            "right": null,
            "justify_content": null,
            "_view_module": "@jupyter-widgets/base",
            "overflow": null,
            "_model_module_version": "1.2.0",
            "_view_count": null,
            "flex_flow": null,
            "width": null,
            "min_width": null,
            "border": null,
            "align_items": null,
            "bottom": null,
            "_model_module": "@jupyter-widgets/base",
            "top": null,
            "grid_column": null,
            "overflow_y": null,
            "overflow_x": null,
            "grid_auto_flow": null,
            "grid_area": null,
            "grid_template_columns": null,
            "flex": null,
            "_model_name": "LayoutModel",
            "justify_items": null,
            "grid_row": null,
            "max_height": null,
            "align_content": null,
            "visibility": null,
            "align_self": null,
            "height": null,
            "min_height": null,
            "padding": null,
            "grid_auto_rows": null,
            "grid_gap": null,
            "max_width": null,
            "order": null,
            "_view_module_version": "1.2.0",
            "grid_template_areas": null,
            "object_position": null,
            "object_fit": null,
            "grid_auto_columns": null,
            "margin": null,
            "display": null,
            "left": null
          }
        },
        "88382c5373604875b9120280e0b355dd": {
          "model_module": "@jupyter-widgets/controls",
          "model_name": "FloatProgressModel",
          "state": {
            "_view_name": "ProgressView",
            "style": "IPY_MODEL_959cfd8056c045b5be23c2a8130842a2",
            "_dom_classes": [],
            "description": "",
            "_model_name": "FloatProgressModel",
            "bar_style": "info",
            "max": 1,
            "_view_module": "@jupyter-widgets/controls",
            "_model_module_version": "1.5.0",
            "value": 1,
            "_view_count": null,
            "_view_module_version": "1.5.0",
            "orientation": "horizontal",
            "min": 0,
            "description_tooltip": null,
            "_model_module": "@jupyter-widgets/controls",
            "layout": "IPY_MODEL_9c170a8842e34595af5bd45740a32c6c"
          }
        },
        "0d0aa621a7814dbdbb657d9b2427c736": {
          "model_module": "@jupyter-widgets/controls",
          "model_name": "HTMLModel",
          "state": {
            "_view_name": "HTMLView",
            "style": "IPY_MODEL_fbe16f4100ca43afb66d0c6100e3969f",
            "_dom_classes": [],
            "description": "",
            "_model_name": "HTMLModel",
            "placeholder": "​",
            "_view_module": "@jupyter-widgets/controls",
            "_model_module_version": "1.5.0",
            "value": " 170500096/? [00:20&lt;00:00, 93201070.50it/s]",
            "_view_count": null,
            "_view_module_version": "1.5.0",
            "description_tooltip": null,
            "_model_module": "@jupyter-widgets/controls",
            "layout": "IPY_MODEL_0ef9e9d3fd644b8697a6282bf698191a"
          }
        },
        "959cfd8056c045b5be23c2a8130842a2": {
          "model_module": "@jupyter-widgets/controls",
          "model_name": "ProgressStyleModel",
          "state": {
            "_view_name": "StyleView",
            "_model_name": "ProgressStyleModel",
            "description_width": "initial",
            "_view_module": "@jupyter-widgets/base",
            "_model_module_version": "1.5.0",
            "_view_count": null,
            "_view_module_version": "1.2.0",
            "bar_color": null,
            "_model_module": "@jupyter-widgets/controls"
          }
        },
        "9c170a8842e34595af5bd45740a32c6c": {
          "model_module": "@jupyter-widgets/base",
          "model_name": "LayoutModel",
          "state": {
            "_view_name": "LayoutView",
            "grid_template_rows": null,
            "right": null,
            "justify_content": null,
            "_view_module": "@jupyter-widgets/base",
            "overflow": null,
            "_model_module_version": "1.2.0",
            "_view_count": null,
            "flex_flow": null,
            "width": null,
            "min_width": null,
            "border": null,
            "align_items": null,
            "bottom": null,
            "_model_module": "@jupyter-widgets/base",
            "top": null,
            "grid_column": null,
            "overflow_y": null,
            "overflow_x": null,
            "grid_auto_flow": null,
            "grid_area": null,
            "grid_template_columns": null,
            "flex": null,
            "_model_name": "LayoutModel",
            "justify_items": null,
            "grid_row": null,
            "max_height": null,
            "align_content": null,
            "visibility": null,
            "align_self": null,
            "height": null,
            "min_height": null,
            "padding": null,
            "grid_auto_rows": null,
            "grid_gap": null,
            "max_width": null,
            "order": null,
            "_view_module_version": "1.2.0",
            "grid_template_areas": null,
            "object_position": null,
            "object_fit": null,
            "grid_auto_columns": null,
            "margin": null,
            "display": null,
            "left": null
          }
        },
        "fbe16f4100ca43afb66d0c6100e3969f": {
          "model_module": "@jupyter-widgets/controls",
          "model_name": "DescriptionStyleModel",
          "state": {
            "_view_name": "StyleView",
            "_model_name": "DescriptionStyleModel",
            "description_width": "",
            "_view_module": "@jupyter-widgets/base",
            "_model_module_version": "1.5.0",
            "_view_count": null,
            "_view_module_version": "1.2.0",
            "_model_module": "@jupyter-widgets/controls"
          }
        },
        "0ef9e9d3fd644b8697a6282bf698191a": {
          "model_module": "@jupyter-widgets/base",
          "model_name": "LayoutModel",
          "state": {
            "_view_name": "LayoutView",
            "grid_template_rows": null,
            "right": null,
            "justify_content": null,
            "_view_module": "@jupyter-widgets/base",
            "overflow": null,
            "_model_module_version": "1.2.0",
            "_view_count": null,
            "flex_flow": null,
            "width": null,
            "min_width": null,
            "border": null,
            "align_items": null,
            "bottom": null,
            "_model_module": "@jupyter-widgets/base",
            "top": null,
            "grid_column": null,
            "overflow_y": null,
            "overflow_x": null,
            "grid_auto_flow": null,
            "grid_area": null,
            "grid_template_columns": null,
            "flex": null,
            "_model_name": "LayoutModel",
            "justify_items": null,
            "grid_row": null,
            "max_height": null,
            "align_content": null,
            "visibility": null,
            "align_self": null,
            "height": null,
            "min_height": null,
            "padding": null,
            "grid_auto_rows": null,
            "grid_gap": null,
            "max_width": null,
            "order": null,
            "_view_module_version": "1.2.0",
            "grid_template_areas": null,
            "object_position": null,
            "object_fit": null,
            "grid_auto_columns": null,
            "margin": null,
            "display": null,
            "left": null
          }
        }
      }
    }
  },
  "cells": [
    {
      "cell_type": "markdown",
      "metadata": {
        "id": "NTc-z5-eqdPT"
      },
      "source": [
        ""
      ]
    },
    {
      "cell_type": "markdown",
      "metadata": {
        "id": "VYovBDSbwfYD"
      },
      "source": [
        "# 1. Receptive field and parameter count (1 point)\n",
        "\n",
        "In all of the following questions, assume that the input image is arbitrarily large, so you don't need to worry about boundary effects or padding.\n",
        "\n",
        "1. Consider a convolutional network which consists of three convolutional layers, each with a filter size of 3x3, and a stride of 1x1. What is the receptive field size of one of the activations at the final output?\n",
        "\n",
        "\n",
        "*   **(7x7) = 49 is the receptive feild size of one of the activations** \n",
        "\n",
        "\n",
        "1. What is the receptive field if the stride is 2x3 at each layer?\n",
        "*    **(15x27) = 405 is the receptive feild size of one of the activations**  \n",
        "\n",
        "1. What is the receptive field if the stride is 2x2 at each layer, and there is a 2x2 max-pooling layer with stride 2x2 after each convolutional layer?\n",
        "*    **(3+(2* 41))*(3+(2* 41)) = 7225 is the receptive feild size of one of the activations** \n",
        "1. Assume that the input image has 3 channels, and the three convolutional layers have 16, 32, and 64 channels respectively. How many parameters does the network have?\n",
        "*    **(3 * 3 * 3 * 16) + (3 * 3 * 16 * 32) + (3 * 3 * 32 * 64) = 23472 parameters**  "
      ]
    },
    {
      "cell_type": "markdown",
      "metadata": {
        "id": "T8t21JGZyUr-"
      },
      "source": [
        "# 2. CIFAR-10 classification (4 points)\n",
        "\n",
        "CIFAR-10 is a standard dataset where the goal is to classify 32 x 32 images into one of 10 classes. The goal of this problem is simple: build and train a convolutional neural network to perform classification on CIFAR-10. The problem is intentionally extremely open-ended! There are dozens (hundreds?) of tutorials online describing how to train a convnet on CIFAR-10 - please seek them out and make use of them. Here are some resources to get you started (which include code for loading the dataset and evaluating performance on it):\n",
        "\n",
        "- [CIFAR-10 example based on mxnet and our textbook](https://colab.research.google.com/github/d2l-ai/d2l-en-colab/blob/master/chapter_computer-vision/kaggle-cifar10.ipynb)\n",
        "- [CIFAR-10 tutorial from PyTorch](https://colab.research.google.com/github/pytorch/tutorials/blob/gh-pages/_downloads/cifar10_tutorial.ipynb)\n",
        "\n",
        "You are welcome to use any other resource that you want (but please cite it!) - as I mentioned there are many, many tutorials online, and googling for help is an utterly crucial skill for a researcher! You will be graded on the final test accuracy achieved by your model:\n",
        "\n",
        "- 60% accuracy or higher: 3/4 points\n",
        "- 75% accuracy or higher: 4/4 points\n",
        "- Highest accuracy in the class: 5/4 points!\n",
        "\n",
        "Note that in order for us to know the final performance of your model, you will need to implement a function that computes the accuracy of your model on the test set (which appears in both of the linked tutorials above). The only rules are: You can only train your model on the CIFAR-10 training set (i.e. you can't use pre-trained models or other datasets for additional training, and you certaintly can't train on the CIFAR-10 test set!), and you must train the model on the free Colab GPU or TPU. This means you can only train the model for an hour or so! This is *much* less compute than is typically used for training CIFAR-10 models. As such, this is as much an exercise in building an accurate model as it is in building an efficient one. This is a popular game to play, and to the best of my knowledge the state-of-the-art is [this approach](https://myrtle.ai/learn/how-to-train-your-resnet/) which attains 96% accuracy in only *26 seconds* on a single GPU! (note that the final link on that page is broken; it should be [this](https://myrtle.ai/learn/how-to-train-your-resnet-8-bag-of-tricks/)).\n",
        "\n",
        "There are lots of things you can try to make your model more accurate and/or more efficient:\n",
        "\n",
        "1. Deeper models\n",
        "1. Residual connections\n",
        "1. [Data augmentation and normalization](https://d2l.ai/chapter_computer-vision/kaggle-cifar10.html#image-augmentation)\n",
        "1. Regularization like dropout or weight decay\n",
        "1. [Learning rate schedules](https://d2l.ai/chapter_optimization/lr-scheduler.html)\n",
        "1. [Different forms of normalization](https://d2l.ai/chapter_convolutional-modern/batch-norm.html)\n",
        "\n",
        "Note that we haven't covered all these topics in class yet, but you should be able to get to at least 60% accuracy without applying all of these ideas - and probably 75% by tweaking around a little bit. Specifically, you should be able to get about 60% accuracy by taking the basic AlexNet architecture we discussed in class and applying it directly to CIFAR-10. And, if you're feeling adventurous, feel free to go for 96% using the aforementioned blog series! Good luck!"
      ]
    },
    {
      "cell_type": "code",
      "metadata": {
        "id": "HoZL6HXeJE5g"
      },
      "source": [
        "import torch\n",
        "import torchvision\n",
        "import torchvision.transforms as transforms"
      ],
      "execution_count": null,
      "outputs": []
    },
    {
      "cell_type": "code",
      "metadata": {
        "id": "pAfIJ5YOJE5g",
        "colab": {
          "base_uri": "https://localhost:8080/",
          "height": 102,
          "referenced_widgets": [
            "cd6cd1b11f4e42858c35a90dc61ff271",
            "3de1f789899e4df290927d5502a8c549",
            "88382c5373604875b9120280e0b355dd",
            "0d0aa621a7814dbdbb657d9b2427c736",
            "959cfd8056c045b5be23c2a8130842a2",
            "9c170a8842e34595af5bd45740a32c6c",
            "fbe16f4100ca43afb66d0c6100e3969f",
            "0ef9e9d3fd644b8697a6282bf698191a"
          ]
        },
        "outputId": "d325837d-3b2a-4ff5-d717-d245f05d3a5c"
      },
      "source": [
        "transform = transforms.Compose(\n",
        "    [transforms.ToTensor(),\n",
        "     transforms.Normalize((0.5, 0.5, 0.5), (0.5, 0.5, 0.5))])\n",
        "\n",
        "trainset = torchvision.datasets.CIFAR10(root='./data', train=True,\n",
        "                                        download=True, transform=transform)\n",
        "trainloader = torch.utils.data.DataLoader(trainset, batch_size=4,\n",
        "                                          shuffle=True, num_workers=2)\n",
        "\n",
        "testset = torchvision.datasets.CIFAR10(root='./data', train=False,\n",
        "                                       download=True, transform=transform)\n",
        "testloader = torch.utils.data.DataLoader(testset, batch_size=4,\n",
        "                                         shuffle=False, num_workers=2)\n",
        "\n",
        "classes = ('plane', 'car', 'bird', 'cat',\n",
        "           'deer', 'dog', 'frog', 'horse', 'ship', 'truck')"
      ],
      "execution_count": null,
      "outputs": [
        {
          "output_type": "stream",
          "text": [
            "Downloading https://www.cs.toronto.edu/~kriz/cifar-10-python.tar.gz to ./data/cifar-10-python.tar.gz\n"
          ],
          "name": "stdout"
        },
        {
          "output_type": "display_data",
          "data": {
            "application/vnd.jupyter.widget-view+json": {
              "model_id": "cd6cd1b11f4e42858c35a90dc61ff271",
              "version_minor": 0,
              "version_major": 2
            },
            "text/plain": [
              "HBox(children=(FloatProgress(value=1.0, bar_style='info', max=1.0), HTML(value='')))"
            ]
          },
          "metadata": {
            "tags": []
          }
        },
        {
          "output_type": "stream",
          "text": [
            "Extracting ./data/cifar-10-python.tar.gz to ./data\n",
            "Files already downloaded and verified\n"
          ],
          "name": "stdout"
        }
      ]
    },
    {
      "cell_type": "code",
      "metadata": {
        "id": "FWi6idzpJE5h"
      },
      "source": [
        "import torch.nn as nn\n",
        "import torch.nn.functional as F\n",
        "\n",
        "# This comes from https://github.com/mtrencseni/pytorch-playground/blob/master/05-cifar-10/CIFAR-10.ipynb\n",
        "class Net(nn.Module):\n",
        "    def __init__(self):\n",
        "        super(Net, self).__init__()\n",
        "        self.conv1 = nn.Conv2d(3,   64,  3)\n",
        "        self.conv2 = nn.Conv2d(64,  128, 3)\n",
        "        self.conv3 = nn.Conv2d(128, 256, 3)\n",
        "        self.pool = nn.MaxPool2d(2, 2)\n",
        "        self.fc1 = nn.Linear(64 * 4 * 4, 128)\n",
        "        self.fc2 = nn.Linear(128, 256)\n",
        "        self.fc3 = nn.Linear(256, 10)\n",
        "\n",
        "    def forward(self, x):\n",
        "        x = self.pool(F.relu(self.conv1(x)))\n",
        "        x = self.pool(F.relu(self.conv2(x)))\n",
        "        x = self.pool(F.relu(self.conv3(x)))\n",
        "        x = x.view(-1, 64 * 4 * 4)\n",
        "        x = F.relu(self.fc1(x))\n",
        "        x = F.relu(self.fc2(x))\n",
        "        x = self.fc3(x)\n",
        "        return F.log_softmax(x, dim=1)\n",
        "\n",
        "net = Net()"
      ],
      "execution_count": null,
      "outputs": []
    },
    {
      "cell_type": "code",
      "metadata": {
        "id": "Zf_yFPfCJE5i"
      },
      "source": [
        "import torch.optim as optim\n",
        "\n",
        "criterion = nn.CrossEntropyLoss() \n",
        "optimizer = optim.SGD(net.parameters(), lr=0.001, momentum=0.9)"
      ],
      "execution_count": null,
      "outputs": []
    },
    {
      "cell_type": "code",
      "metadata": {
        "id": "fKePaNqCJE5i",
        "colab": {
          "base_uri": "https://localhost:8080/"
        },
        "outputId": "9c8b641b-e8a7-44b6-dd1f-a7821e6a0681"
      },
      "source": [
        "for epoch in range(25):  # loop over the dataset multiple times\n",
        "\n",
        "    running_loss = 0.0\n",
        "    for i, data in enumerate(trainloader, 0):\n",
        "        # get the inputs\n",
        "        inputs, labels = data\n",
        "\n",
        "        # zero the parameter gradients\n",
        "        optimizer.zero_grad()\n",
        "\n",
        "        # forward + backward + optimize\n",
        "        outputs = net(inputs)\n",
        "        loss = criterion(outputs, labels)\n",
        "        loss.backward()\n",
        "        optimizer.step()\n",
        "\n",
        "        #TODO: Put in a learning rate scheduler\n",
        "\n",
        "        # print statistics\n",
        "        running_loss += loss.item()\n",
        "        if i % 2000 == 1999:    # print every 2000 mini-batches\n",
        "            print('[%d, %5d] loss: %.3f' %\n",
        "                  (epoch + 1, i + 1, running_loss / 2000))\n",
        "            running_loss = 0.0\n",
        "\n",
        "print('Finished Training')"
      ],
      "execution_count": null,
      "outputs": [
        {
          "output_type": "stream",
          "text": [
            "[1,  2000] loss: 2.242\n",
            "[1,  4000] loss: 1.914\n",
            "[1,  6000] loss: 1.674\n",
            "[1,  8000] loss: 1.536\n",
            "[1, 10000] loss: 1.442\n",
            "[1, 12000] loss: 1.368\n",
            "[2,  2000] loss: 1.277\n",
            "[2,  4000] loss: 1.202\n",
            "[2,  6000] loss: 1.178\n",
            "[2,  8000] loss: 1.126\n",
            "[2, 10000] loss: 1.084\n",
            "[2, 12000] loss: 1.044\n",
            "[3,  2000] loss: 0.938\n",
            "[3,  4000] loss: 0.922\n",
            "[3,  6000] loss: 0.892\n",
            "[3,  8000] loss: 0.874\n",
            "[3, 10000] loss: 0.831\n",
            "[3, 12000] loss: 0.865\n",
            "[4,  2000] loss: 0.734\n",
            "[4,  4000] loss: 0.737\n",
            "[4,  6000] loss: 0.741\n",
            "[4,  8000] loss: 0.720\n",
            "[4, 10000] loss: 0.749\n",
            "[4, 12000] loss: 0.724\n",
            "[5,  2000] loss: 0.598\n",
            "[5,  4000] loss: 0.608\n",
            "[5,  6000] loss: 0.605\n",
            "[5,  8000] loss: 0.615\n",
            "[5, 10000] loss: 0.625\n",
            "[5, 12000] loss: 0.624\n",
            "[6,  2000] loss: 0.459\n",
            "[6,  4000] loss: 0.484\n",
            "[6,  6000] loss: 0.518\n",
            "[6,  8000] loss: 0.514\n",
            "[6, 10000] loss: 0.542\n",
            "[6, 12000] loss: 0.522\n",
            "[7,  2000] loss: 0.361\n",
            "[7,  4000] loss: 0.391\n",
            "[7,  6000] loss: 0.403\n",
            "[7,  8000] loss: 0.440\n",
            "[7, 10000] loss: 0.441\n",
            "[7, 12000] loss: 0.458\n",
            "[8,  2000] loss: 0.308\n",
            "[8,  4000] loss: 0.336\n",
            "[8,  6000] loss: 0.345\n",
            "[8,  8000] loss: 0.360\n",
            "[8, 10000] loss: 0.369\n",
            "[8, 12000] loss: 0.369\n",
            "[9,  2000] loss: 0.250\n",
            "[9,  4000] loss: 0.249\n",
            "[9,  6000] loss: 0.306\n",
            "[9,  8000] loss: 0.307\n",
            "[9, 10000] loss: 0.320\n",
            "[9, 12000] loss: 0.303\n",
            "[10,  2000] loss: 0.206\n",
            "[10,  4000] loss: 0.231\n",
            "[10,  6000] loss: 0.262\n",
            "[10,  8000] loss: 0.259\n",
            "[10, 10000] loss: 0.271\n",
            "[10, 12000] loss: 0.277\n",
            "[11,  2000] loss: 0.172\n",
            "[11,  4000] loss: 0.198\n",
            "[11,  6000] loss: 0.198\n",
            "[11,  8000] loss: 0.225\n",
            "[11, 10000] loss: 0.240\n",
            "[11, 12000] loss: 0.229\n",
            "[12,  2000] loss: 0.134\n",
            "[12,  4000] loss: 0.151\n",
            "[12,  6000] loss: 0.186\n",
            "[12,  8000] loss: 0.180\n",
            "[12, 10000] loss: 0.216\n",
            "[12, 12000] loss: 0.206\n",
            "[13,  2000] loss: 0.108\n",
            "[13,  4000] loss: 0.133\n",
            "[13,  6000] loss: 0.154\n",
            "[13,  8000] loss: 0.169\n",
            "[13, 10000] loss: 0.163\n",
            "[13, 12000] loss: 0.183\n",
            "[14,  2000] loss: 0.107\n",
            "[14,  4000] loss: 0.124\n",
            "[14,  6000] loss: 0.133\n",
            "[14,  8000] loss: 0.143\n",
            "[14, 10000] loss: 0.155\n",
            "[14, 12000] loss: 0.158\n",
            "[15,  2000] loss: 0.081\n",
            "[15,  4000] loss: 0.114\n",
            "[15,  6000] loss: 0.109\n",
            "[15,  8000] loss: 0.131\n",
            "[15, 10000] loss: 0.140\n",
            "[15, 12000] loss: 0.134\n",
            "[16,  2000] loss: 0.089\n",
            "[16,  4000] loss: 0.087\n",
            "[16,  6000] loss: 0.110\n",
            "[16,  8000] loss: 0.122\n",
            "[16, 10000] loss: 0.126\n",
            "[16, 12000] loss: 0.128\n",
            "[17,  2000] loss: 0.077\n",
            "[17,  4000] loss: 0.089\n",
            "[17,  6000] loss: 0.104\n",
            "[17,  8000] loss: 0.105\n",
            "[17, 10000] loss: 0.125\n",
            "[17, 12000] loss: 0.138\n",
            "[18,  2000] loss: 0.068\n",
            "[18,  4000] loss: 0.081\n",
            "[18,  6000] loss: 0.090\n",
            "[18,  8000] loss: 0.095\n",
            "[18, 10000] loss: 0.099\n",
            "[18, 12000] loss: 0.089\n",
            "[19,  2000] loss: 0.073\n",
            "[19,  4000] loss: 0.081\n",
            "[19,  6000] loss: 0.082\n",
            "[19,  8000] loss: 0.095\n",
            "[19, 10000] loss: 0.073\n",
            "[19, 12000] loss: 0.093\n",
            "[20,  2000] loss: 0.071\n",
            "[20,  4000] loss: 0.068\n",
            "[20,  6000] loss: 0.086\n",
            "[20,  8000] loss: 0.099\n",
            "[20, 10000] loss: 0.090\n",
            "[20, 12000] loss: 0.077\n",
            "[21,  2000] loss: 0.041\n",
            "[21,  4000] loss: 0.058\n",
            "[21,  6000] loss: 0.063\n",
            "[21,  8000] loss: 0.061\n",
            "[21, 10000] loss: 0.088\n",
            "[21, 12000] loss: 0.088\n",
            "[22,  2000] loss: 0.056\n",
            "[22,  4000] loss: 0.062\n",
            "[22,  6000] loss: 0.056\n",
            "[22,  8000] loss: 0.069\n",
            "[22, 10000] loss: 0.090\n",
            "[22, 12000] loss: 0.067\n",
            "[23,  2000] loss: 0.047\n",
            "[23,  4000] loss: 0.059\n",
            "[23,  6000] loss: 0.081\n",
            "[23,  8000] loss: 0.064\n",
            "[23, 10000] loss: 0.060\n",
            "[23, 12000] loss: 0.057\n",
            "[24,  2000] loss: 0.038\n",
            "[24,  4000] loss: 0.061\n",
            "[24,  6000] loss: 0.077\n",
            "[24,  8000] loss: 0.076\n",
            "[24, 10000] loss: 0.062\n",
            "[24, 12000] loss: 0.066\n",
            "[25,  2000] loss: 0.029\n",
            "[25,  4000] loss: 0.044\n",
            "[25,  6000] loss: 0.052\n",
            "[25,  8000] loss: 0.073\n",
            "[25, 10000] loss: 0.050\n",
            "[25, 12000] loss: 0.072\n",
            "Finished Training\n"
          ],
          "name": "stdout"
        }
      ]
    },
    {
      "cell_type": "code",
      "metadata": {
        "id": "gOk445asJE5n",
        "colab": {
          "base_uri": "https://localhost:8080/"
        },
        "outputId": "76d8a50a-708f-4e58-f38e-24414c38310c"
      },
      "source": [
        "correct = 0\n",
        "total = 0\n",
        "with torch.no_grad():\n",
        "    for data in testloader:\n",
        "        images, labels = data\n",
        "        outputs = net(images)\n",
        "        _, predicted = torch.max(outputs.data, 1)\n",
        "        total += labels.size(0)\n",
        "        correct += (predicted == labels).sum().item()\n",
        "\n",
        "print('Accuracy of the network on the 10000 test images: %f %%' % (\n",
        "    100 * correct / total))"
      ],
      "execution_count": null,
      "outputs": [
        {
          "output_type": "stream",
          "text": [
            "Accuracy of the network on the 10000 test images: 75.420000 %\n"
          ],
          "name": "stdout"
        }
      ]
    },
    {
      "cell_type": "code",
      "metadata": {
        "id": "XNB0OiIMJE5n",
        "colab": {
          "base_uri": "https://localhost:8080/"
        },
        "outputId": "95d96c3f-63fc-4313-cbd3-9a4351a925bc"
      },
      "source": [
        "class_correct = list(0. for i in range(10))\n",
        "class_total = list(0. for i in range(10))\n",
        "with torch.no_grad():\n",
        "    for data in testloader:\n",
        "        images, labels = data\n",
        "        outputs = net(images)\n",
        "        _, predicted = torch.max(outputs, 1)\n",
        "        c = (predicted == labels).squeeze()\n",
        "        for i in range(4):\n",
        "            label = labels[i]\n",
        "            class_correct[label] += c[i].item()\n",
        "            class_total[label] += 1\n",
        "\n",
        "\n",
        "for i in range(10):\n",
        "    print('Accuracy of %5s : %2d %%' % (\n",
        "        classes[i], 100 * class_correct[i] / class_total[i]))"
      ],
      "execution_count": null,
      "outputs": [
        {
          "output_type": "stream",
          "text": [
            "Accuracy of plane : 81 %\n",
            "Accuracy of   car : 89 %\n",
            "Accuracy of  bird : 60 %\n",
            "Accuracy of   cat : 64 %\n",
            "Accuracy of  deer : 71 %\n",
            "Accuracy of   dog : 64 %\n",
            "Accuracy of  frog : 81 %\n",
            "Accuracy of horse : 78 %\n",
            "Accuracy of  ship : 80 %\n",
            "Accuracy of truck : 82 %\n"
          ],
          "name": "stdout"
        }
      ]
    },
    {
      "cell_type": "markdown",
      "metadata": {
        "id": "OXpmMc8BqAES"
      },
      "source": [
        "Sources:\r\n",
        "\r\n",
        "\r\n",
        "*   https://colab.research.google.com/github/pytorch/tutorials/blob/gh-pages/_downloads/cifar10_tutorial.ipynb#scrollTo=PcUj7D-RJE5h \r\n",
        "*   https://github.com/mtrencseni/pytorch-playground/blob/master/05-cifar-10/CIFAR-10.ipynb\r\n",
        "\r\n"
      ]
    }
  ]
}