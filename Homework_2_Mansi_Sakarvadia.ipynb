{
  "nbformat": 4,
  "nbformat_minor": 0,
  "metadata": {
    "anaconda-cloud": {},
    "kernelspec": {
      "display_name": "Python [default]",
      "language": "python",
      "name": "python3"
    },
    "language_info": {
      "codemirror_mode": {
        "name": "ipython",
        "version": 3
      },
      "file_extension": ".py",
      "mimetype": "text/x-python",
      "name": "python",
      "nbconvert_exporter": "python",
      "pygments_lexer": "ipython3",
      "version": "3.5.2"
    },
    "colab": {
      "name": "Homework 2 - Mansi Sakarvadia",
      "provenance": [],
      "collapsed_sections": []
    }
  },
  "cells": [
    {
      "cell_type": "code",
      "metadata": {
        "ExecuteTime": {
          "end_time": "2019-02-07T00:58:19.457771Z",
          "start_time": "2019-02-07T00:58:16.843106Z"
        },
        "collapsed": true,
        "id": "Z38Xiyb8WpzB"
      },
      "source": [
        "from mxnet import nd, autograd, gluon\n",
        "import matplotlib.pyplot as plt"
      ],
      "execution_count": 19,
      "outputs": []
    },
    {
      "cell_type": "markdown",
      "metadata": {
        "id": "Vz-etWKpWpzC"
      },
      "source": [
        "# 1. Logistic Regression for Binary Classification (2 points)\n",
        "\n",
        "In multiclass classification we typically use the exponential model \n",
        "\n",
        "$$p(y|\\mathbf{o}) = \\mathrm{softmax}(\\mathbf{o})_y = \\frac{\\exp(o_y)}{\\sum_{y'} \\exp(o_{y'})}$$\n",
        "\n",
        "1.1. Show that this parametrization has a spurious degree of freedom. That is, show that both $\\mathbf{o}$ and $\\mathbf{o} + c$ with $c \\in \\mathbb{R}$ lead to the same probability estimate.\n",
        "\n",
        "$$p(y|\\mathbf{o}+c) = \\mathrm{softmax}(\\mathbf{o}+c)_y = \\frac{\\exp(o_y+c)}{\\sum_{y'} \\exp(o_{y'}+c)}$$\n",
        "\n",
        "$$ = \\mathrm{softmax}(\\mathbf{o}+c)_y = \\frac{\\exp(o_y)\\exp(c)}{\\sum_{y'} \\exp(o_{y'})\\exp(c)}$$\n",
        "\n",
        "$$ = \\mathrm{softmax}(\\mathbf{o}+c)_y = \\frac{\\exp(o_y)\\exp(c)}{\\exp(c)\\sum_{y'} \\exp(o_{y'})}$$\n",
        "\n",
        "$$= \\frac{\\exp(o_y)}{\\sum_{y'} \\exp(o_{y'})}$$\n",
        "\n",
        "1.2. For binary classification, i.e. whenever we have only two classes $\\{-1, 1\\}$, we can arbitrarily set $o_{-1} = 0$. Using the shorthand $o = o_1$ show that this is equivalent to \n",
        "\n",
        "$$p(y=1|o) = \\frac{1}{1 + \\exp(-o)}$$\n",
        "\n",
        "1.3. Show that the log-likelihood loss (often called logistic loss) for labels $y \\in \\{-1, 1\\}$ is thus given by \n",
        "\n",
        "$$-\\log p(y|o) = \\log (1 + \\exp(-y \\cdot o))$$\n",
        "\n",
        "1.4. Show that for $y = 1$ the logistic loss asymptotes to $0$ for $o \\to \\infty$ and to $\\infty$ for $o \\to -\\infty$. \n",
        "\n",
        "As $o \\to \\infty$, $\\exp(-y \\cdot o) \\to 0$,  therefore, $\\log (1 + \\exp(-y \\cdot o)) \\to 0$\n",
        "\n",
        "As $o \\to -\\infty$, $\\exp(-y \\cdot o) \\to \\infty$,  therefore, $\\log (1 + \\exp(-y \\cdot o)) \\to \\infty$"
      ]
    },
    {
      "cell_type": "markdown",
      "metadata": {
        "id": "7wZ2QLJ0WpzC"
      },
      "source": [
        "# 2. Logistic Regression and Autograd (1 point)\n",
        "\n",
        "1. Implement the binary logistic loss $l(y,o) = \\log (1 + \\exp(-y \\cdot o))$ in Gluon\n",
        "1. Plot its values for $y \\in \\{-1, 1\\}$ over the range of $o \\in [-5, 5]$.\n",
        "1. Plot its derivative with respect to $o$ for $o \\in [-5, 5]$ using 'autograd'."
      ]
    },
    {
      "cell_type": "markdown",
      "metadata": {
        "id": "I99mYQQQRhJ7"
      },
      "source": [
        "I used the mxnet softmax regression example from class and the textbook to get some of the code (more of the import statments and structural framework of the program)."
      ]
    },
    {
      "cell_type": "code",
      "metadata": {
        "id": "0ofJwQmcRNwv"
      },
      "source": [
        "!pip install d2l==0.16.1\r\n",
        "!pip install -U mxnet-cu101==1.7.0"
      ],
      "execution_count": null,
      "outputs": []
    },
    {
      "cell_type": "code",
      "metadata": {
        "id": "k2cTQDGnRUSa"
      },
      "source": [
        "# For automatically computing gradients of numpy functions\r\n",
        "from mxnet import autograd\r\n",
        "# mxnet's version of numpy, which is autograd-friendly\r\n",
        "from mxnet import np\r\n",
        "# mxnet's neural network + accelerator extensions for numpy\r\n",
        "from mxnet import npx\r\n",
        "# mxnet's neural network framework (only for data loading here)\r\n",
        "from mxnet import gluon\r\n",
        "# Tell mxnet to be as numpy-compatible as possible\r\n",
        "npx.set_np()\r\n",
        "\r\n",
        "from IPython import display"
      ],
      "execution_count": 21,
      "outputs": []
    },
    {
      "cell_type": "code",
      "metadata": {
        "id": "k5xlnLbWRAx8"
      },
      "source": [
        "def bin_log_loss(y,o):\r\n",
        "  return np.log(1 + np.exp(-y * o))"
      ],
      "execution_count": 58,
      "outputs": []
    },
    {
      "cell_type": "code",
      "metadata": {
        "colab": {
          "base_uri": "https://localhost:8080/",
          "height": 297
        },
        "id": "c9Jg5g00wxio",
        "outputId": "29ccbb3d-f328-4fcf-f371-197bb0de60b9"
      },
      "source": [
        "O = np.arange(-5, 5, 0.1)\r\n",
        "\r\n",
        "losses = []\r\n",
        "\r\n",
        "for o in O:\r\n",
        "    losses.append(bin_log_loss(1, o))\r\n",
        "\r\n",
        "plt.plot(losses, 'r+')\r\n",
        "plt.xlabel(\"Iteration; o = (-5,5)\")\r\n",
        "plt.ylabel(\"Loss when y=1\")"
      ],
      "execution_count": 71,
      "outputs": [
        {
          "output_type": "execute_result",
          "data": {
            "text/plain": [
              "Text(0, 0.5, 'Loss when y=1')"
            ]
          },
          "metadata": {
            "tags": []
          },
          "execution_count": 71
        },
        {
          "output_type": "display_data",
          "data": {
            "image/png": "[encoded data removed]",
            "text/plain": [
              "<Figure size 432x288 with 1 Axes>"
            ]
          },
          "metadata": {
            "tags": [],
            "needs_background": "light"
          }
        }
      ]
    },
    {
      "cell_type": "code",
      "metadata": {
        "colab": {
          "base_uri": "https://localhost:8080/",
          "height": 297
        },
        "id": "liU4hiXgCCP3",
        "outputId": "98d956d8-8ea8-477a-8470-5ecceec036a8"
      },
      "source": [
        "O = np.arange(-5, 5, 0.1)\r\n",
        "\r\n",
        "losses = []\r\n",
        "\r\n",
        "for o in O:\r\n",
        "    losses.append(bin_log_loss(-1, o))\r\n",
        "\r\n",
        "plt.plot(losses, 'b')\r\n",
        "plt.xlabel(\"Iteration; o = (-5,5)\")\r\n",
        "plt.ylabel(\"Loss when y=-1\")"
      ],
      "execution_count": 67,
      "outputs": [
        {
          "output_type": "execute_result",
          "data": {
            "text/plain": [
              "Text(0, 0.5, 'Loss when y=-1')"
            ]
          },
          "metadata": {
            "tags": []
          },
          "execution_count": 67
        },
        {
          "output_type": "display_data",
          "data": {
            "image/png": "[encoded data removed]",
            "text/plain": [
              "<Figure size 432x288 with 1 Axes>"
            ]
          },
          "metadata": {
            "tags": [],
            "needs_background": "light"
          }
        }
      ]
    },
    {
      "cell_type": "code",
      "metadata": {
        "colab": {
          "base_uri": "https://localhost:8080/",
          "height": 299
        },
        "id": "h-FmmUSu2uhg",
        "outputId": "6db16a23-a1e7-4e96-aed8-aef810ee7326"
      },
      "source": [
        "O = np.arange(-5, 5, 0.1)\r\n",
        "O.attach_grad()\r\n",
        "with autograd.record():\r\n",
        "  y = bin_log_loss(1, O)\r\n",
        "\r\n",
        "y.backward()\r\n",
        "plt.plot(O.grad, 'r+')\r\n",
        "plt.xlabel(\"Iteration; o = (-5,5)\")\r\n",
        "plt.ylabel(\"Gradient of Loss with respect of o when y=1\")"
      ],
      "execution_count": 75,
      "outputs": [
        {
          "output_type": "execute_result",
          "data": {
            "text/plain": [
              "Text(0, 0.5, 'Gradient of Loss with respect of o when y=1')"
            ]
          },
          "metadata": {
            "tags": []
          },
          "execution_count": 75
        },
        {
          "output_type": "display_data",
          "data": {
            "image/png": "[encoded data removed]",
            "text/plain": [
              "<Figure size 432x288 with 1 Axes>"
            ]
          },
          "metadata": {
            "tags": [],
            "needs_background": "light"
          }
        }
      ]
    },
    {
      "cell_type": "code",
      "metadata": {
        "colab": {
          "base_uri": "https://localhost:8080/",
          "height": 301
        },
        "id": "C1ykal23C9_E",
        "outputId": "fc5c6926-4b5a-48d8-c4b1-e685d838350a"
      },
      "source": [
        "O = np.arange(-5, 5, 0.1)\r\n",
        "O.attach_grad()\r\n",
        "with autograd.record():\r\n",
        "  y = bin_log_loss(-1, O)\r\n",
        "\r\n",
        "y.backward()\r\n",
        "plt.plot(O.grad, 'b')\r\n",
        "plt.xlabel(\"Iteration; o = (-5,5)\")\r\n",
        "plt.ylabel(\"Gradient of Loss with respect of o when y=-1\")"
      ],
      "execution_count": 78,
      "outputs": [
        {
          "output_type": "execute_result",
          "data": {
            "text/plain": [
              "Text(0, 0.5, 'Gradient of Loss with respect of o when y=-1')"
            ]
          },
          "metadata": {
            "tags": []
          },
          "execution_count": 78
        },
        {
          "output_type": "display_data",
          "data": {
            "image/png": "[encoded data removed]",
            "text/plain": [
              "<Figure size 432x288 with 1 Axes>"
            ]
          },
          "metadata": {
            "tags": [],
            "needs_background": "light"
          }
        }
      ]
    },
    {
      "cell_type": "markdown",
      "metadata": {
        "id": "0lxavV51WpzD"
      },
      "source": [
        "# 3. T-shirt vs. Trouser classification (2 points)\n",
        "\n",
        "1. Implement a logistic regression model on the Fashion MNIST datasets that classifies between t-shirts and trousers, rather than all 10 of the classes. Feel free to use the [softmax regression code from the textbook](http://d2l.ai/chapter_linear-networks/softmax-regression-scratch.html), but use the binary logistic loss you defined above (which assumes that the labels are -1 or 1) rather than a softmax cross-entropy loss. This will require creating custom version of the `d2l.load_data_fashion_mnist` that removes any examples that are not t-shirts or trousers, and maps the labels to -1 and 1.\n",
        "2. After implementing this model and getting it to work, try changing the learning rate and weight initialization scale. Can you get the model to train more quickly? What values of these hyperparameters result in bad models/poor training dynamics?\n",
        "\n",
        "*Note*: Don't forget to change the runtime type to \"GPU\" to speed things up!"
      ]
    }
  ]
}