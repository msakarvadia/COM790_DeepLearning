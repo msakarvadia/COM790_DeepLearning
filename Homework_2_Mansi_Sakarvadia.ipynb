{
  "nbformat": 4,
  "nbformat_minor": 0,
  "metadata": {
    "anaconda-cloud": {},
    "kernelspec": {
      "display_name": "Python [default]",
      "language": "python",
      "name": "python3"
    },
    "language_info": {
      "codemirror_mode": {
        "name": "ipython",
        "version": 3
      },
      "file_extension": ".py",
      "mimetype": "text/x-python",
      "name": "python",
      "nbconvert_exporter": "python",
      "pygments_lexer": "ipython3",
      "version": "3.5.2"
    },
    "colab": {
      "name": "Homework 2 - Mansi Sakarvadia",
      "provenance": [],
      "collapsed_sections": []
    }
  },
  "cells": [
    {
      "cell_type": "code",
      "metadata": {
        "ExecuteTime": {
          "end_time": "2019-02-07T00:58:19.457771Z",
          "start_time": "2019-02-07T00:58:16.843106Z"
        },
        "collapsed": true,
        "id": "Z38Xiyb8WpzB"
      },
      "source": [
        "from mxnet import nd, autograd, gluon\n",
        "import matplotlib.pyplot as plt\n",
        "import torch\n",
        "import sys"
      ],
      "execution_count": 1,
      "outputs": []
    },
    {
      "cell_type": "markdown",
      "metadata": {
        "id": "Vz-etWKpWpzC"
      },
      "source": [
        "# 1. Logistic Regression for Binary Classification (2 points)\n",
        "\n",
        "In multiclass classification we typically use the exponential model \n",
        "\n",
        "$$p(y|\\mathbf{o}) = \\mathrm{softmax}(\\mathbf{o})_y = \\frac{\\exp(o_y)}{\\sum_{y'} \\exp(o_{y'})}$$\n",
        "\n",
        "**1.1. Show that this parametrization has a spurious degree of freedom. That is, show that both $\\mathbf{o}$ and $\\mathbf{o} + c$ with $c \\in \\mathbb{R}$ lead to the same probability estimate.**\n",
        "\n",
        "$$p(y|\\mathbf{o}+c) = \\mathrm{softmax}(\\mathbf{o}+c)_y = \\frac{\\exp(o_y+c)}{\\sum_{y'} \\exp(o_{y'}+c)}$$ \n",
        "\n",
        "$$ = \\mathrm{softmax}(\\mathbf{o}+c)_y = \\frac{\\exp(o_y)\\exp(c)}{\\sum_{y'} \\exp(o_{y'})\\exp(c)}$$\n",
        "\n",
        "$$ = \\mathrm{softmax}(\\mathbf{o}+c)_y = \\frac{\\exp(o_y)\\exp(c)}{\\exp(c)\\sum_{y'} \\exp(o_{y'})}$$\n",
        "\n",
        "$$= \\frac{\\exp(o_y)}{\\sum_{y'} \\exp(o_{y'})}$$\n",
        "\n",
        "**1.2. For binary classification, i.e. whenever we have only two classes $\\{-1, 1\\}$, we can arbitrarily set $o_{-1} = 0$. Using the shorthand $o = o_1$ show that this is equivalent to**\n",
        "\n",
        "$$p(y=1|o) = \\frac{1}{1 + \\exp(-o)}$$\n",
        "$$p(y=-1|o_{-1}) = 1 - \\frac{1}{1 + \\exp(-o)} = \\frac{\\exp(-o)}{1 + \\exp(-o)} = \\frac{1}{1 + \\exp(o)} $$\n",
        "We can rewrite both of the above expressions in this equivalent form:\n",
        "$$p(y|o) = \\frac{1}{1 + \\exp(-y*o)} $$\n",
        "\n",
        "**1.3. Show that the log-likelihood loss (often called logistic loss) for labels $y \\in \\{-1, 1\\}$ is thus given by** \n",
        "\n",
        "$$-\\log p(y|o) = \\log (1 + \\exp(-y \\cdot o))$$\n",
        "$$= -\\log(\\frac{1}{1 + \\exp(-y*o)})$$\n",
        "$$= -\\log(1) + \\log({1 + \\exp(-y*o)})$$\n",
        "$$= \\log({1 + \\exp(-y*o)})$$\n",
        "\n",
        "**1.4. Show that for $y = 1$ the logistic loss asymptotes to $0$ for $o \\to \\infty$ and to $\\infty$ for $o \\to -\\infty$.** \n",
        "\n",
        "As $o \\to \\infty$, $\\exp(-y \\cdot o) \\to 0$,  therefore, $\\log (1 + \\exp(-y \\cdot o)) \\to 0$\n",
        "\n",
        "As $o \\to -\\infty$, $\\exp(-y \\cdot o) \\to \\infty$,  therefore, $\\log (1 + \\exp(-y \\cdot o)) \\to \\infty$"
      ]
    },
    {
      "cell_type": "markdown",
      "metadata": {
        "id": "7wZ2QLJ0WpzC"
      },
      "source": [
        "# 2. Logistic Regression and Autograd (1 point)\n",
        "\n",
        "1. Implement the binary logistic loss $l(y,o) = \\log (1 + \\exp(-y \\cdot o))$ in Gluon\n",
        "1. Plot its values for $y \\in \\{-1, 1\\}$ over the range of $o \\in [-5, 5]$.\n",
        "1. Plot its derivative with respect to $o$ for $o \\in [-5, 5]$ using 'autograd'."
      ]
    },
    {
      "cell_type": "markdown",
      "metadata": {
        "id": "I99mYQQQRhJ7"
      },
      "source": [
        "I used the mxnet softmax regression example from class and the textbook to get some of the code (more of the import statments and structural framework of the program)."
      ]
    },
    {
      "cell_type": "code",
      "metadata": {
        "colab": {
          "base_uri": "https://localhost:8080/"
        },
        "id": "0ofJwQmcRNwv",
        "outputId": "22bf562c-f4f7-4e8b-ad0a-bd0856228ca0"
      },
      "source": [
        "!pip install d2l==0.16.1\r\n",
        "!pip install -U mxnet-cu101==1.7.0"
      ],
      "execution_count": 2,
      "outputs": [
        {
          "output_type": "stream",
          "text": [
            "Requirement already satisfied: d2l==0.16.1 in /usr/local/lib/python3.6/dist-packages (0.16.1)\n",
            "Requirement already satisfied: jupyter in /usr/local/lib/python3.6/dist-packages (from d2l==0.16.1) (1.0.0)\n",
            "Requirement already satisfied: numpy in /usr/local/lib/python3.6/dist-packages (from d2l==0.16.1) (1.19.5)\n",
            "Requirement already satisfied: pandas in /usr/local/lib/python3.6/dist-packages (from d2l==0.16.1) (1.1.5)\n",
            "Requirement already satisfied: matplotlib in /usr/local/lib/python3.6/dist-packages (from d2l==0.16.1) (3.2.2)\n",
            "Requirement already satisfied: ipykernel in /usr/local/lib/python3.6/dist-packages (from jupyter->d2l==0.16.1) (4.10.1)\n",
            "Requirement already satisfied: nbconvert in /usr/local/lib/python3.6/dist-packages (from jupyter->d2l==0.16.1) (5.6.1)\n",
            "Requirement already satisfied: ipywidgets in /usr/local/lib/python3.6/dist-packages (from jupyter->d2l==0.16.1) (7.6.3)\n",
            "Requirement already satisfied: qtconsole in /usr/local/lib/python3.6/dist-packages (from jupyter->d2l==0.16.1) (5.0.2)\n",
            "Requirement already satisfied: notebook in /usr/local/lib/python3.6/dist-packages (from jupyter->d2l==0.16.1) (5.3.1)\n",
            "Requirement already satisfied: jupyter-console in /usr/local/lib/python3.6/dist-packages (from jupyter->d2l==0.16.1) (5.2.0)\n",
            "Requirement already satisfied: python-dateutil>=2.7.3 in /usr/local/lib/python3.6/dist-packages (from pandas->d2l==0.16.1) (2.8.1)\n",
            "Requirement already satisfied: pytz>=2017.2 in /usr/local/lib/python3.6/dist-packages (from pandas->d2l==0.16.1) (2018.9)\n",
            "Requirement already satisfied: kiwisolver>=1.0.1 in /usr/local/lib/python3.6/dist-packages (from matplotlib->d2l==0.16.1) (1.3.1)\n",
            "Requirement already satisfied: pyparsing!=2.0.4,!=2.1.2,!=2.1.6,>=2.0.1 in /usr/local/lib/python3.6/dist-packages (from matplotlib->d2l==0.16.1) (2.4.7)\n",
            "Requirement already satisfied: cycler>=0.10 in /usr/local/lib/python3.6/dist-packages (from matplotlib->d2l==0.16.1) (0.10.0)\n",
            "Requirement already satisfied: jupyter-client in /usr/local/lib/python3.6/dist-packages (from ipykernel->jupyter->d2l==0.16.1) (5.3.5)\n",
            "Requirement already satisfied: ipython>=4.0.0 in /usr/local/lib/python3.6/dist-packages (from ipykernel->jupyter->d2l==0.16.1) (5.5.0)\n",
            "Requirement already satisfied: tornado>=4.0 in /usr/local/lib/python3.6/dist-packages (from ipykernel->jupyter->d2l==0.16.1) (5.1.1)\n",
            "Requirement already satisfied: traitlets>=4.1.0 in /usr/local/lib/python3.6/dist-packages (from ipykernel->jupyter->d2l==0.16.1) (4.3.3)\n",
            "Requirement already satisfied: jinja2>=2.4 in /usr/local/lib/python3.6/dist-packages (from nbconvert->jupyter->d2l==0.16.1) (2.11.2)\n",
            "Requirement already satisfied: bleach in /usr/local/lib/python3.6/dist-packages (from nbconvert->jupyter->d2l==0.16.1) (3.2.3)\n",
            "Requirement already satisfied: nbformat>=4.4 in /usr/local/lib/python3.6/dist-packages (from nbconvert->jupyter->d2l==0.16.1) (5.1.2)\n",
            "Requirement already satisfied: jupyter-core in /usr/local/lib/python3.6/dist-packages (from nbconvert->jupyter->d2l==0.16.1) (4.7.0)\n",
            "Requirement already satisfied: testpath in /usr/local/lib/python3.6/dist-packages (from nbconvert->jupyter->d2l==0.16.1) (0.4.4)\n",
            "Requirement already satisfied: pygments in /usr/local/lib/python3.6/dist-packages (from nbconvert->jupyter->d2l==0.16.1) (2.6.1)\n",
            "Requirement already satisfied: entrypoints>=0.2.2 in /usr/local/lib/python3.6/dist-packages (from nbconvert->jupyter->d2l==0.16.1) (0.3)\n",
            "Requirement already satisfied: mistune<2,>=0.8.1 in /usr/local/lib/python3.6/dist-packages (from nbconvert->jupyter->d2l==0.16.1) (0.8.4)\n",
            "Requirement already satisfied: pandocfilters>=1.4.1 in /usr/local/lib/python3.6/dist-packages (from nbconvert->jupyter->d2l==0.16.1) (1.4.3)\n",
            "Requirement already satisfied: defusedxml in /usr/local/lib/python3.6/dist-packages (from nbconvert->jupyter->d2l==0.16.1) (0.6.0)\n",
            "Requirement already satisfied: widgetsnbextension~=3.5.0 in /usr/local/lib/python3.6/dist-packages (from ipywidgets->jupyter->d2l==0.16.1) (3.5.1)\n",
            "Requirement already satisfied: jupyterlab-widgets>=1.0.0; python_version >= \"3.6\" in /usr/local/lib/python3.6/dist-packages (from ipywidgets->jupyter->d2l==0.16.1) (1.0.0)\n",
            "Requirement already satisfied: pyzmq>=17.1 in /usr/local/lib/python3.6/dist-packages (from qtconsole->jupyter->d2l==0.16.1) (22.0.2)\n",
            "Requirement already satisfied: ipython-genutils in /usr/local/lib/python3.6/dist-packages (from qtconsole->jupyter->d2l==0.16.1) (0.2.0)\n",
            "Requirement already satisfied: qtpy in /usr/local/lib/python3.6/dist-packages (from qtconsole->jupyter->d2l==0.16.1) (1.9.0)\n",
            "Requirement already satisfied: terminado>=0.8.1 in /usr/local/lib/python3.6/dist-packages (from notebook->jupyter->d2l==0.16.1) (0.9.2)\n",
            "Requirement already satisfied: Send2Trash in /usr/local/lib/python3.6/dist-packages (from notebook->jupyter->d2l==0.16.1) (1.5.0)\n",
            "Requirement already satisfied: prompt-toolkit<2.0.0,>=1.0.0 in /usr/local/lib/python3.6/dist-packages (from jupyter-console->jupyter->d2l==0.16.1) (1.0.18)\n",
            "Requirement already satisfied: six>=1.5 in /usr/local/lib/python3.6/dist-packages (from python-dateutil>=2.7.3->pandas->d2l==0.16.1) (1.15.0)\n",
            "Requirement already satisfied: setuptools>=18.5 in /usr/local/lib/python3.6/dist-packages (from ipython>=4.0.0->ipykernel->jupyter->d2l==0.16.1) (53.0.0)\n",
            "Requirement already satisfied: simplegeneric>0.8 in /usr/local/lib/python3.6/dist-packages (from ipython>=4.0.0->ipykernel->jupyter->d2l==0.16.1) (0.8.1)\n",
            "Requirement already satisfied: decorator in /usr/local/lib/python3.6/dist-packages (from ipython>=4.0.0->ipykernel->jupyter->d2l==0.16.1) (4.4.2)\n",
            "Requirement already satisfied: pexpect; sys_platform != \"win32\" in /usr/local/lib/python3.6/dist-packages (from ipython>=4.0.0->ipykernel->jupyter->d2l==0.16.1) (4.8.0)\n",
            "Requirement already satisfied: pickleshare in /usr/local/lib/python3.6/dist-packages (from ipython>=4.0.0->ipykernel->jupyter->d2l==0.16.1) (0.7.5)\n",
            "Requirement already satisfied: MarkupSafe>=0.23 in /usr/local/lib/python3.6/dist-packages (from jinja2>=2.4->nbconvert->jupyter->d2l==0.16.1) (1.1.1)\n",
            "Requirement already satisfied: packaging in /usr/local/lib/python3.6/dist-packages (from bleach->nbconvert->jupyter->d2l==0.16.1) (20.8)\n",
            "Requirement already satisfied: webencodings in /usr/local/lib/python3.6/dist-packages (from bleach->nbconvert->jupyter->d2l==0.16.1) (0.5.1)\n",
            "Requirement already satisfied: jsonschema!=2.5.0,>=2.4 in /usr/local/lib/python3.6/dist-packages (from nbformat>=4.4->nbconvert->jupyter->d2l==0.16.1) (2.6.0)\n",
            "Requirement already satisfied: ptyprocess; os_name != \"nt\" in /usr/local/lib/python3.6/dist-packages (from terminado>=0.8.1->notebook->jupyter->d2l==0.16.1) (0.7.0)\n",
            "Requirement already satisfied: wcwidth in /usr/local/lib/python3.6/dist-packages (from prompt-toolkit<2.0.0,>=1.0.0->jupyter-console->jupyter->d2l==0.16.1) (0.2.5)\n",
            "Requirement already up-to-date: mxnet-cu101==1.7.0 in /usr/local/lib/python3.6/dist-packages (1.7.0)\n",
            "Requirement already satisfied, skipping upgrade: graphviz<0.9.0,>=0.8.1 in /usr/local/lib/python3.6/dist-packages (from mxnet-cu101==1.7.0) (0.8.4)\n",
            "Requirement already satisfied, skipping upgrade: requests<3,>=2.20.0 in /usr/local/lib/python3.6/dist-packages (from mxnet-cu101==1.7.0) (2.23.0)\n",
            "Requirement already satisfied, skipping upgrade: numpy<2.0.0,>1.16.0 in /usr/local/lib/python3.6/dist-packages (from mxnet-cu101==1.7.0) (1.19.5)\n",
            "Requirement already satisfied, skipping upgrade: idna<3,>=2.5 in /usr/local/lib/python3.6/dist-packages (from requests<3,>=2.20.0->mxnet-cu101==1.7.0) (2.10)\n",
            "Requirement already satisfied, skipping upgrade: certifi>=2017.4.17 in /usr/local/lib/python3.6/dist-packages (from requests<3,>=2.20.0->mxnet-cu101==1.7.0) (2020.12.5)\n",
            "Requirement already satisfied, skipping upgrade: chardet<4,>=3.0.2 in /usr/local/lib/python3.6/dist-packages (from requests<3,>=2.20.0->mxnet-cu101==1.7.0) (3.0.4)\n",
            "Requirement already satisfied, skipping upgrade: urllib3!=1.25.0,!=1.25.1,<1.26,>=1.21.1 in /usr/local/lib/python3.6/dist-packages (from requests<3,>=2.20.0->mxnet-cu101==1.7.0) (1.24.3)\n"
          ],
          "name": "stdout"
        }
      ]
    },
    {
      "cell_type": "code",
      "metadata": {
        "id": "k2cTQDGnRUSa"
      },
      "source": [
        "# For automatically computing gradients of numpy functions\r\n",
        "from mxnet import autograd\r\n",
        "# mxnet's version of numpy, which is autograd-friendly\r\n",
        "from mxnet import np\r\n",
        "# mxnet's neural network + accelerator extensions for numpy\r\n",
        "from mxnet import npx\r\n",
        "# mxnet's neural network framework (only for data loading here)\r\n",
        "from mxnet import gluon\r\n",
        "# Tell mxnet to be as numpy-compatible as possible\r\n",
        "npx.set_np()\r\n",
        "\r\n",
        "from IPython import display"
      ],
      "execution_count": 3,
      "outputs": []
    },
    {
      "cell_type": "code",
      "metadata": {
        "id": "k5xlnLbWRAx8"
      },
      "source": [
        "def bin_log_loss(y,o):\r\n",
        "  return np.log(1 + np.exp(-y * o))"
      ],
      "execution_count": 4,
      "outputs": []
    },
    {
      "cell_type": "code",
      "metadata": {
        "colab": {
          "base_uri": "https://localhost:8080/",
          "height": 297
        },
        "id": "c9Jg5g00wxio",
        "outputId": "7dea7850-6c96-4792-a728-cb872809100b"
      },
      "source": [
        "O = np.arange(-5, 5, 0.1)\r\n",
        "\r\n",
        "losses = []\r\n",
        "\r\n",
        "for o in O:\r\n",
        "    losses.append(bin_log_loss(1, o))\r\n",
        "\r\n",
        "plt.plot(O,losses, 'r+')\r\n",
        "plt.xlabel(\"Iteration; o = (-5,5)\")\r\n",
        "plt.ylabel(\"Loss when y=1\")"
      ],
      "execution_count": 5,
      "outputs": [
        {
          "output_type": "execute_result",
          "data": {
            "text/plain": [
              "Text(0, 0.5, 'Loss when y=1')"
            ]
          },
          "metadata": {
            "tags": []
          },
          "execution_count": 5
        },
        {
          "output_type": "display_data",
          "data": {
            "image/png": "[encoded data removed]",
            "text/plain": [
              "<Figure size 432x288 with 1 Axes>"
            ]
          },
          "metadata": {
            "tags": [],
            "needs_background": "light"
          }
        }
      ]
    },
    {
      "cell_type": "code",
      "metadata": {
        "colab": {
          "base_uri": "https://localhost:8080/",
          "height": 297
        },
        "id": "liU4hiXgCCP3",
        "outputId": "fdeeeb56-53d1-4719-8b0f-391941639c09"
      },
      "source": [
        "O = np.arange(-5, 5, 0.1)\r\n",
        "\r\n",
        "losses = []\r\n",
        "\r\n",
        "for o in O:\r\n",
        "    losses.append(bin_log_loss(-1, o))\r\n",
        "\r\n",
        "plt.plot(O, losses, 'b')\r\n",
        "plt.xlabel(\"Iteration; o = (-5,5)\")\r\n",
        "plt.ylabel(\"Loss when y=-1\")"
      ],
      "execution_count": 6,
      "outputs": [
        {
          "output_type": "execute_result",
          "data": {
            "text/plain": [
              "Text(0, 0.5, 'Loss when y=-1')"
            ]
          },
          "metadata": {
            "tags": []
          },
          "execution_count": 6
        },
        {
          "output_type": "display_data",
          "data": {
            "image/png": "[encoded data removed]",
            "text/plain": [
              "<Figure size 432x288 with 1 Axes>"
            ]
          },
          "metadata": {
            "tags": [],
            "needs_background": "light"
          }
        }
      ]
    },
    {
      "cell_type": "code",
      "metadata": {
        "colab": {
          "base_uri": "https://localhost:8080/",
          "height": 299
        },
        "id": "h-FmmUSu2uhg",
        "outputId": "2cf742ef-8aa1-46de-9388-5aef466a5da8"
      },
      "source": [
        "O = np.arange(-5, 5, 0.1)\r\n",
        "O.attach_grad()\r\n",
        "with autograd.record():\r\n",
        "  y = bin_log_loss(1, O)\r\n",
        "\r\n",
        "y.backward()\r\n",
        "plt.plot(O,O.grad, 'r+')\r\n",
        "plt.xlabel(\"Iteration; o = (-5,5)\")\r\n",
        "plt.ylabel(\"Gradient of Loss with respect of o when y=1\")"
      ],
      "execution_count": 7,
      "outputs": [
        {
          "output_type": "execute_result",
          "data": {
            "text/plain": [
              "Text(0, 0.5, 'Gradient of Loss with respect of o when y=1')"
            ]
          },
          "metadata": {
            "tags": []
          },
          "execution_count": 7
        },
        {
          "output_type": "display_data",
          "data": {
            "image/png": "[encoded data removed]",
            "text/plain": [
              "<Figure size 432x288 with 1 Axes>"
            ]
          },
          "metadata": {
            "tags": [],
            "needs_background": "light"
          }
        }
      ]
    },
    {
      "cell_type": "code",
      "metadata": {
        "colab": {
          "base_uri": "https://localhost:8080/",
          "height": 301
        },
        "id": "C1ykal23C9_E",
        "outputId": "31cb49f5-8c86-4607-8cc5-ce2689d809ea"
      },
      "source": [
        "O = np.arange(-5, 5, 0.1)\r\n",
        "O.attach_grad()\r\n",
        "with autograd.record():\r\n",
        "  y = bin_log_loss(-1, O)\r\n",
        "\r\n",
        "y.backward()\r\n",
        "plt.plot(O, O.grad, 'b')\r\n",
        "plt.xlabel(\"Iteration; o = (-5,5)\")\r\n",
        "plt.ylabel(\"Gradient of Loss with respect of o when y=-1\")"
      ],
      "execution_count": 8,
      "outputs": [
        {
          "output_type": "execute_result",
          "data": {
            "text/plain": [
              "Text(0, 0.5, 'Gradient of Loss with respect of o when y=-1')"
            ]
          },
          "metadata": {
            "tags": []
          },
          "execution_count": 8
        },
        {
          "output_type": "display_data",
          "data": {
            "image/png": "[encoded data removed]",
            "text/plain": [
              "<Figure size 432x288 with 1 Axes>"
            ]
          },
          "metadata": {
            "tags": [],
            "needs_background": "light"
          }
        }
      ]
    },
    {
      "cell_type": "markdown",
      "metadata": {
        "id": "0lxavV51WpzD"
      },
      "source": [
        "# 3. T-shirt vs. Trouser classification (2 points)\n",
        "\n",
        "1. Implement a logistic regression model on the Fashion MNIST datasets that classifies between t-shirts and trousers, rather than all 10 of the classes. Feel free to use the [softmax regression code from the textbook](http://d2l.ai/chapter_linear-networks/softmax-regression-scratch.html), but use the binary logistic loss you defined above (which assumes that the labels are -1 or 1) rather than a softmax cross-entropy loss. This will require creating custom version of the `d2l.load_data_fashion_mnist` that removes any examples that are not t-shirts or trousers, and maps the labels to -1 and 1.\n",
        "2. After implementing this model and getting it to work, try changing the learning rate and weight initialization scale. Can you get the model to train more quickly? What values of these hyperparameters result in bad models/poor training dynamics?\n",
        "\n",
        "*Note*: Don't forget to change the runtime type to \"GPU\" to speed things up!"
      ]
    },
    {
      "cell_type": "code",
      "metadata": {
        "id": "cM1Ob2zXKBeo"
      },
      "source": [
        "def filter_shirt_trousers(sample):\r\n",
        "    #if data is t-shirt\r\n",
        "    if sample[1] == 0:\r\n",
        "      return True\r\n",
        "    #if data is t-shirt\r\n",
        "    if sample[1] == 1:\r\n",
        "      return True\r\n",
        "    return False"
      ],
      "execution_count": 9,
      "outputs": []
    },
    {
      "cell_type": "code",
      "metadata": {
        "id": "Z_H_unSaKEDr"
      },
      "source": [
        "def transform_shirt_trouser_label(data, label):\r\n",
        "    #if data is t-shirt\r\n",
        "    if label == 0:\r\n",
        "      return data, -1\r\n",
        "    #if data is t-shirt\r\n",
        "    if label == 1:\r\n",
        "      return data, 1\r\n",
        "    return data, label  "
      ],
      "execution_count": 10,
      "outputs": []
    },
    {
      "cell_type": "code",
      "metadata": {
        "id": "KCYXkC-PKFgO"
      },
      "source": [
        "def load_data_fashion_mnist(batch_size=256, resize=None):\r\n",
        "    \"\"\"Download the Fashion-MNIST dataset and then load it into memory.\"\"\"\r\n",
        "    dataset = gluon.data.vision\r\n",
        "    trans = [dataset.transforms.ToTensor()]\r\n",
        "    if resize:\r\n",
        "        trans.insert(0, dataset.transforms.Resize(resize))\r\n",
        "    trans = dataset.transforms.Compose(trans)\r\n",
        "    mnist_train = dataset.FashionMNIST(train=True).transform_first(trans).filter(filter_shirt_trousers)\r\n",
        "    mnist_test = dataset.FashionMNIST(train=False).transform_first(trans).filter(filter_shirt_trousers)\r\n",
        "\r\n",
        "    mnist_train = mnist_train.transform(transform_shirt_trouser_label)\r\n",
        "    mnist_test = mnist_test.transform(transform_shirt_trouser_label)\r\n",
        "\r\n",
        "    return (gluon.data.DataLoader(mnist_train, batch_size, shuffle=True,\r\n",
        "                                  num_workers=4),\r\n",
        "            gluon.data.DataLoader(mnist_test, batch_size, shuffle=False,\r\n",
        "                                  num_workers=4))\r\n",
        "\r\n",
        "train_iter, test_iter = load_data_fashion_mnist()"
      ],
      "execution_count": 11,
      "outputs": []
    },
    {
      "cell_type": "code",
      "metadata": {
        "id": "EH1nVVyKKG0G"
      },
      "source": [
        "num_inputs = 784\r\n",
        "#num_outputs = 10\r\n",
        "num_outputs = 2\r\n",
        "\r\n",
        "# Initialize values of parameters in typical numpy syntax\r\n",
        "W = np.random.normal(0, 0.01, (num_inputs, num_outputs))\r\n",
        "b = np.zeros(num_outputs)\r\n",
        "# Tell mxnet we want to keep track of gradients for these parameters\r\n",
        "W.attach_grad()\r\n",
        "b.attach_grad()"
      ],
      "execution_count": 12,
      "outputs": []
    },
    {
      "cell_type": "code",
      "metadata": {
        "id": "D7-KZBDyKIR4"
      },
      "source": [
        "def softmax(X):\r\n",
        "    X_exp = np.exp(X)\r\n",
        "    partition = X_exp.sum(axis=1, keepdims=True)\r\n",
        "    return X_exp / partition  # The broadcasting mechanism is applied here"
      ],
      "execution_count": 13,
      "outputs": []
    },
    {
      "cell_type": "code",
      "metadata": {
        "id": "oQfTa7QZKLTE"
      },
      "source": [
        "def net(X):\r\n",
        "    # Reshape is necessary because data is originally images\r\n",
        "    return softmax(np.dot(X.reshape((-1, W.shape[0])), W) + b)"
      ],
      "execution_count": 14,
      "outputs": []
    },
    {
      "cell_type": "code",
      "metadata": {
        "id": "cU8sOKFhKMpu"
      },
      "source": [
        "def bin_log_loss(y_hat, y):\r\n",
        "    #a = np.ones(shape=(len(y),))\r\n",
        "    #for i in range(len(y)):\r\n",
        "    #  if y[i]==-1:\r\n",
        "    #    a[i] = 0\r\n",
        "    #  else:\r\n",
        "    #    a[i] = 1\r\n",
        "    o = y_hat[range(len(y_hat)), y]\r\n",
        "    #print(o)\r\n",
        "    #for i in range(len(y)):\r\n",
        "    #  if y[i]==0:\r\n",
        "    #    y[i] = -1\r\n",
        "    return np.log(1+np.exp(-y* o))\r\n",
        "    #return - np.log(y_hat[range(len(y_hat)), y])"
      ],
      "execution_count": 15,
      "outputs": []
    },
    {
      "cell_type": "code",
      "metadata": {
        "id": "I-MNy3uHKOdp"
      },
      "source": [
        "def accuracy(y_hat, y):  #@save\r\n",
        "    \"\"\"Compute the number of correct predictions.\"\"\"\r\n",
        "    if len(y_hat.shape) > 1 and y_hat.shape[1] > 1:\r\n",
        "        y_hat = y_hat.argmax(axis=1)\r\n",
        "    #print(y_hat)\r\n",
        "    #print(y)\r\n",
        "    for i in range(len(y_hat)):\r\n",
        "      if y_hat[i]==0:\r\n",
        "        y_hat[i] = -1\r\n",
        "    cmp = y_hat.astype(y.dtype) == y\r\n",
        "    #print(float(cmp.astype(y.dtype).sum()))\r\n",
        "    return float(cmp.astype(y.dtype).sum())"
      ],
      "execution_count": 16,
      "outputs": []
    },
    {
      "cell_type": "code",
      "metadata": {
        "id": "sGiyzREIKT97"
      },
      "source": [
        "def evaluate_accuracy(net, data_iter):  #@save\r\n",
        "    \"\"\"Compute the accuracy for a model on a dataset.\"\"\"\r\n",
        "    metric = Accumulator(2)  # No. of correct predictions, no. of predictions\r\n",
        "    for X, y in data_iter:\r\n",
        "        metric.add(accuracy(net(X), y), y.size)\r\n",
        "    return metric[0] / metric[1]"
      ],
      "execution_count": 17,
      "outputs": []
    },
    {
      "cell_type": "code",
      "metadata": {
        "id": "Z30U-pkIKVO6"
      },
      "source": [
        "class Accumulator:  #@save\r\n",
        "    \"\"\"For accumulating sums over `n` variables.\"\"\"\r\n",
        "    def __init__(self, n):\r\n",
        "        self.data = [0.0] * n\r\n",
        "\r\n",
        "    def add(self, *args):\r\n",
        "        self.data = [a + float(b) for a, b in zip(self.data, args)]\r\n",
        "\r\n",
        "    def reset(self):\r\n",
        "        self.data = [0.0] * len(self.data)\r\n",
        "\r\n",
        "    def __getitem__(self, idx):\r\n",
        "        return self.data[idx]"
      ],
      "execution_count": 18,
      "outputs": []
    },
    {
      "cell_type": "code",
      "metadata": {
        "id": "I9RtCDSUKaLT"
      },
      "source": [
        "def train_epoch_ch3(net, train_iter, loss, updater):  #@save\r\n",
        "    \"\"\"Train a model within one epoch (defined in Chapter 3).\"\"\"\r\n",
        "    # Sum of training loss, sum of training accuracy, no. of examples\r\n",
        "    metric = Accumulator(3)\r\n",
        "    for X, y in train_iter:\r\n",
        "        # Compute gradients and update parameters\r\n",
        "        with autograd.record():\r\n",
        "            y_hat = net(X)\r\n",
        "            l = loss(y_hat, y)\r\n",
        "        l.backward()\r\n",
        "        updater(X.shape[0])\r\n",
        "        metric.add(float(l.sum()), accuracy(y_hat, y), y.size)\r\n",
        "    # Return training loss and training accuracy\r\n",
        "    return metric[0] / metric[2], metric[1] / metric[2]"
      ],
      "execution_count": 19,
      "outputs": []
    },
    {
      "cell_type": "code",
      "metadata": {
        "id": "KGukuTXBKbdX"
      },
      "source": [
        "def train_ch3(net, train_iter, test_iter, loss, num_epochs, updater):  #@save\r\n",
        "    for epoch in range(num_epochs):\r\n",
        "        train_metrics = train_epoch_ch3(net, train_iter, loss, updater)\r\n",
        "        test_acc = evaluate_accuracy(net, test_iter)\r\n",
        "        train_loss, train_acc = train_metrics\r\n",
        "        print(f\"{epoch + 1}:\\ttrain {train_acc*100.0:0.2f}%\\ttest {test_acc*100.0:0.2f}%\")"
      ],
      "execution_count": 20,
      "outputs": []
    },
    {
      "cell_type": "code",
      "metadata": {
        "id": "HL4z11nfKdE8"
      },
      "source": [
        "lr = 0.1\r\n",
        "\r\n",
        "def sgd(params, lr, batch_size):\r\n",
        "    \"\"\"Minibatch stochastic gradient descent.\"\"\"\r\n",
        "    for param in params:\r\n",
        "        param[:] = param - lr * param.grad / batch_size\r\n",
        "\r\n",
        "def updater(batch_size):\r\n",
        "    return sgd([W, b], lr, batch_size)"
      ],
      "execution_count": 21,
      "outputs": []
    },
    {
      "cell_type": "code",
      "metadata": {
        "colab": {
          "base_uri": "https://localhost:8080/"
        },
        "id": "nn2YAiJqKepb",
        "outputId": "a6668cfc-036b-4ed4-ae8a-6337e31a9ffe"
      },
      "source": [
        "num_epochs = 10\r\n",
        "train_ch3(net, train_iter, test_iter, bin_log_loss, num_epochs, updater)"
      ],
      "execution_count": null,
      "outputs": [
        {
          "output_type": "stream",
          "text": [
            "1:\ttrain 76.41%\ttest 93.65%\n",
            "2:\ttrain 93.46%\ttest 94.60%\n",
            "3:\ttrain 94.17%\ttest 94.95%\n",
            "4:\ttrain 94.57%\ttest 95.05%\n",
            "5:\ttrain 94.77%\ttest 95.35%\n",
            "6:\ttrain 95.04%\ttest 95.50%\n"
          ],
          "name": "stdout"
        }
      ]
    },
    {
      "cell_type": "markdown",
      "metadata": {
        "id": "nHFIx9m9f1O9"
      },
      "source": [
        "While I was trying to tune my hyperparameters, I aws having a lot of trouble with the internet and as soon as the program got to the testing phase the run time waould disconnect and I would have to start over and so I wasn't really able to test a lot of different hyper parameter combinations. However, I did achieve ~95% accuracy on the training and test set when the learning rate was 0.1  and the weights initialized to the value it currently is. I image that this ML algorithm would perform badly if the learning rate was much smaller than it is right now (in the sense that the program would be too slow) and too much higher and we might over shoot our optima."
      ]
    },
    {
      "cell_type": "markdown",
      "metadata": {
        "id": "BqE46QNug9hQ"
      },
      "source": [
        "## All of the coding in this this homework was done by me or was taken from the textbook or class example. I talked through problems and checked my results with one of my classmates: Nate Fulmer."
      ]
    }
  ]
}