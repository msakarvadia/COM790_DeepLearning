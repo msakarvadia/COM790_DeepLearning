{
  "nbformat": 4,
  "nbformat_minor": 0,
  "metadata": {
    "kernelspec": {
      "display_name": "Python 3",
      "language": "python",
      "name": "python3"
    },
    "language_info": {
      "codemirror_mode": {
        "name": "ipython",
        "version": 3
      },
      "file_extension": ".py",
      "mimetype": "text/x-python",
      "name": "python",
      "nbconvert_exporter": "python",
      "pygments_lexer": "ipython3",
      "version": "3.6.6"
    },
    "colab": {
      "name": "cifar10_cnn.ipynb",
      "provenance": [],
      "collapsed_sections": []
    },
    "accelerator": "GPU"
  },
  "cells": [
    {
      "cell_type": "code",
      "metadata": {
        "id": "9HCDmYUEJE5W"
      },
      "source": [
        "%matplotlib inline"
      ],
      "execution_count": 46,
      "outputs": []
    },
    {
      "cell_type": "markdown",
      "metadata": {
        "id": "BKSdFQEDJE5f"
      },
      "source": [
        "\n",
        "Training a Classifier\n",
        "=====================\n",
        "\n",
        "This is it. You have seen how to define neural networks, compute loss and make\n",
        "updates to the weights of the network.\n",
        "\n",
        "Now you might be thinking,\n",
        "\n",
        "What about data?\n",
        "----------------\n",
        "\n",
        "Generally, when you have to deal with image, text, audio or video data,\n",
        "you can use standard python packages that load data into a numpy array.\n",
        "Then you can convert this array into a ``torch.*Tensor``.\n",
        "\n",
        "-  For images, packages such as Pillow, OpenCV are useful\n",
        "-  For audio, packages such as scipy and librosa\n",
        "-  For text, either raw Python or Cython based loading, or NLTK and\n",
        "   SpaCy are useful\n",
        "\n",
        "Specifically for vision, we have created a package called\n",
        "``torchvision``, that has data loaders for common datasets such as\n",
        "Imagenet, CIFAR10, MNIST, etc. and data transformers for images, viz.,\n",
        "``torchvision.datasets`` and ``torch.utils.data.DataLoader``.\n",
        "\n",
        "This provides a huge convenience and avoids writing boilerplate code.\n",
        "\n",
        "For this tutorial, we will use the CIFAR10 dataset.\n",
        "It has the classes: ‘airplane’, ‘automobile’, ‘bird’, ‘cat’, ‘deer’,\n",
        "‘dog’, ‘frog’, ‘horse’, ‘ship’, ‘truck’. The images in CIFAR-10 are of\n",
        "size 3x32x32, i.e. 3-channel color images of 32x32 pixels in size.\n",
        "\n",
        ".. figure:: /_static/img/cifar10.png\n",
        "   :alt: cifar10\n",
        "\n",
        "   cifar10\n",
        "\n",
        "\n",
        "Training an image classifier\n",
        "----------------------------\n",
        "\n",
        "We will do the following steps in order:\n",
        "\n",
        "1. Load and normalizing the CIFAR10 training and test datasets using\n",
        "   ``torchvision``\n",
        "2. Define a Convolution Neural Network\n",
        "3. Define a loss function\n",
        "4. Train the network on the training data\n",
        "5. Test the network on the test data\n",
        "\n",
        "1. Loading and normalizing CIFAR10\n",
        "^^^^^^^^^^^^^^^^^^^^^^^^^^^^^^^^^^\n",
        "\n",
        "Using ``torchvision``, it’s extremely easy to load CIFAR10.\n",
        "\n"
      ]
    },
    {
      "cell_type": "code",
      "metadata": {
        "id": "HoZL6HXeJE5g"
      },
      "source": [
        "import torch\n",
        "import torchvision\n",
        "import torchvision.transforms as transforms"
      ],
      "execution_count": 47,
      "outputs": []
    },
    {
      "cell_type": "markdown",
      "metadata": {
        "id": "UoRkH-W8JE5g"
      },
      "source": [
        "The output of torchvision datasets are PILImage images of range [0, 1].\n",
        "We transform them to Tensors of normalized range [-1, 1].\n",
        "\n"
      ]
    },
    {
      "cell_type": "code",
      "metadata": {
        "id": "pAfIJ5YOJE5g",
        "colab": {
          "base_uri": "https://localhost:8080/"
        },
        "outputId": "4177fec2-512d-4f50-d555-4950374b37f7"
      },
      "source": [
        "transform = transforms.Compose(\n",
        "    [transforms.ToTensor(),\n",
        "     transforms.Normalize((0.5, 0.5, 0.5), (0.5, 0.5, 0.5))])\n",
        "\n",
        "trainset = torchvision.datasets.CIFAR10(root='./data', train=True,\n",
        "                                        download=True, transform=transform)\n",
        "trainloader = torch.utils.data.DataLoader(trainset, batch_size=4,\n",
        "                                          shuffle=True, num_workers=2)\n",
        "\n",
        "testset = torchvision.datasets.CIFAR10(root='./data', train=False,\n",
        "                                       download=True, transform=transform)\n",
        "testloader = torch.utils.data.DataLoader(testset, batch_size=4,\n",
        "                                         shuffle=False, num_workers=2)\n",
        "\n",
        "classes = ('plane', 'car', 'bird', 'cat',\n",
        "           'deer', 'dog', 'frog', 'horse', 'ship', 'truck')"
      ],
      "execution_count": 48,
      "outputs": [
        {
          "output_type": "stream",
          "text": [
            "Files already downloaded and verified\n",
            "Files already downloaded and verified\n"
          ],
          "name": "stdout"
        }
      ]
    },
    {
      "cell_type": "markdown",
      "metadata": {
        "id": "jDe7pbGzJE5h"
      },
      "source": [
        "Let us show some of the training images, for fun.\n",
        "\n"
      ]
    },
    {
      "cell_type": "code",
      "metadata": {
        "id": "2i3ExNTgJE5h",
        "colab": {
          "base_uri": "https://localhost:8080/",
          "height": 155
        },
        "outputId": "b4c14f0d-a1fd-4f07-aa2f-3626ef06d7de"
      },
      "source": [
        "import matplotlib.pyplot as plt\n",
        "import numpy as np\n",
        "\n",
        "# functions to show an image\n",
        "\n",
        "\n",
        "def imshow(img):\n",
        "    img = img / 2 + 0.5     # unnormalize\n",
        "    npimg = img.numpy()\n",
        "    plt.imshow(np.transpose(npimg, (1, 2, 0)))\n",
        "\n",
        "\n",
        "# get some random training images\n",
        "dataiter = iter(trainloader)\n",
        "images, labels = dataiter.next()\n",
        "\n",
        "# show images\n",
        "imshow(torchvision.utils.make_grid(images))\n",
        "# print labels\n",
        "print(' '.join('%5s' % classes[labels[j]] for j in range(4)))"
      ],
      "execution_count": 49,
      "outputs": [
        {
          "output_type": "stream",
          "text": [
            "  cat   dog horse  ship\n"
          ],
          "name": "stdout"
        },
        {
          "output_type": "display_data",
          "data": {
            "image/png": "[encoded data removed]",
            "text/plain": [
              "<Figure size 432x288 with 1 Axes>"
            ]
          },
          "metadata": {
            "tags": [],
            "needs_background": "light"
          }
        }
      ]
    },
    {
      "cell_type": "markdown",
      "metadata": {
        "id": "PcUj7D-RJE5h"
      },
      "source": [
        "2. Define a Convolution Neural Network\n",
        "^^^^^^^^^^^^^^^^^^^^^^^^^^^^^^^^^^^^^^\n",
        "Copy the neural network from the Neural Networks section before and modify it to\n",
        "take 3-channel images (instead of 1-channel images as it was defined).\n",
        "\n"
      ]
    },
    {
      "cell_type": "code",
      "metadata": {
        "id": "FWi6idzpJE5h"
      },
      "source": [
        "import torch.nn as nn\n",
        "import torch.nn.functional as F\n",
        "\n",
        "# This comes from https://github.com/mtrencseni/pytorch-playground/blob/master/05-cifar-10/CIFAR-10.ipynb\n",
        "class Net(nn.Module):\n",
        "    def __init__(self):\n",
        "        super(Net, self).__init__()\n",
        "        self.conv1 = nn.Conv2d(3,   64,  3)\n",
        "        self.conv2 = nn.Conv2d(64,  128, 3)\n",
        "        self.conv3 = nn.Conv2d(128, 256, 3)\n",
        "        self.pool = nn.MaxPool2d(2, 2)\n",
        "        self.fc1 = nn.Linear(64 * 4 * 4, 128)\n",
        "        self.fc2 = nn.Linear(128, 256)\n",
        "        self.fc3 = nn.Linear(256, 10)\n",
        "\n",
        "    def forward(self, x):\n",
        "        x = self.pool(F.relu(self.conv1(x)))\n",
        "        x = self.pool(F.relu(self.conv2(x)))\n",
        "        x = self.pool(F.relu(self.conv3(x)))\n",
        "        x = x.view(-1, 64 * 4 * 4)\n",
        "        x = F.relu(self.fc1(x))\n",
        "        x = F.relu(self.fc2(x))\n",
        "        x = self.fc3(x)\n",
        "        return F.log_softmax(x, dim=1)\n",
        "\n",
        "net = Net()"
      ],
      "execution_count": 50,
      "outputs": []
    },
    {
      "cell_type": "markdown",
      "metadata": {
        "id": "r8G0olUnJE5i"
      },
      "source": [
        "3. Define a Loss function and optimizer\n",
        "^^^^^^^^^^^^^^^^^^^^^^^^^^^^^^^^^^^^^^^\n",
        "Let's use a Classification Cross-Entropy loss and SGD with momentum.\n",
        "\n"
      ]
    },
    {
      "cell_type": "code",
      "metadata": {
        "id": "Zf_yFPfCJE5i"
      },
      "source": [
        "import torch.optim as optim\n",
        "\n",
        "criterion = nn.CrossEntropyLoss() \n",
        "optimizer = optim.SGD(net.parameters(), lr=0.001, momentum=0.9)"
      ],
      "execution_count": 51,
      "outputs": []
    },
    {
      "cell_type": "markdown",
      "metadata": {
        "id": "m53oqeeHJE5i"
      },
      "source": [
        "4. Train the network\n",
        "^^^^^^^^^^^^^^^^^^^^\n",
        "\n",
        "This is when things start to get interesting.\n",
        "We simply have to loop over our data iterator, and feed the inputs to the\n",
        "network and optimize.\n",
        "\n"
      ]
    },
    {
      "cell_type": "code",
      "metadata": {
        "id": "fKePaNqCJE5i",
        "colab": {
          "base_uri": "https://localhost:8080/"
        },
        "outputId": "185050da-c442-499b-c2e2-217c67294b54"
      },
      "source": [
        "for epoch in range(25):  # loop over the dataset multiple times\n",
        "\n",
        "    running_loss = 0.0\n",
        "    for i, data in enumerate(trainloader, 0):\n",
        "        # get the inputs\n",
        "        inputs, labels = data\n",
        "\n",
        "        # zero the parameter gradients\n",
        "        optimizer.zero_grad()\n",
        "\n",
        "        # forward + backward + optimize\n",
        "        outputs = net(inputs)\n",
        "        loss = criterion(outputs, labels)\n",
        "        loss.backward()\n",
        "        optimizer.step()\n",
        "\n",
        "        # print statistics\n",
        "        running_loss += loss.item()\n",
        "        if i % 2000 == 1999:    # print every 2000 mini-batches\n",
        "            print('[%d, %5d] loss: %.3f' %\n",
        "                  (epoch + 1, i + 1, running_loss / 2000))\n",
        "            running_loss = 0.0\n",
        "\n",
        "print('Finished Training')"
      ],
      "execution_count": 52,
      "outputs": [
        {
          "output_type": "stream",
          "text": [
            "[1,  2000] loss: 2.218\n",
            "[1,  4000] loss: 1.882\n",
            "[1,  6000] loss: 1.704\n",
            "[1,  8000] loss: 1.557\n",
            "[1, 10000] loss: 1.462\n",
            "[1, 12000] loss: 1.388\n",
            "[2,  2000] loss: 1.275\n",
            "[2,  4000] loss: 1.233\n",
            "[2,  6000] loss: 1.176\n",
            "[2,  8000] loss: 1.150\n",
            "[2, 10000] loss: 1.084\n",
            "[2, 12000] loss: 1.067\n",
            "[3,  2000] loss: 0.952\n",
            "[3,  4000] loss: 0.933\n",
            "[3,  6000] loss: 0.906\n",
            "[3,  8000] loss: 0.879\n",
            "[3, 10000] loss: 0.849\n",
            "[3, 12000] loss: 0.865\n",
            "[4,  2000] loss: 0.721\n",
            "[4,  4000] loss: 0.738\n",
            "[4,  6000] loss: 0.756\n",
            "[4,  8000] loss: 0.730\n",
            "[4, 10000] loss: 0.722\n",
            "[4, 12000] loss: 0.720\n",
            "[5,  2000] loss: 0.577\n",
            "[5,  4000] loss: 0.606\n",
            "[5,  6000] loss: 0.611\n",
            "[5,  8000] loss: 0.616\n",
            "[5, 10000] loss: 0.623\n",
            "[5, 12000] loss: 0.619\n",
            "[6,  2000] loss: 0.454\n",
            "[6,  4000] loss: 0.510\n",
            "[6,  6000] loss: 0.522\n",
            "[6,  8000] loss: 0.520\n",
            "[6, 10000] loss: 0.505\n",
            "[6, 12000] loss: 0.522\n",
            "[7,  2000] loss: 0.390\n",
            "[7,  4000] loss: 0.402\n",
            "[7,  6000] loss: 0.422\n",
            "[7,  8000] loss: 0.417\n",
            "[7, 10000] loss: 0.429\n",
            "[7, 12000] loss: 0.444\n",
            "[8,  2000] loss: 0.295\n",
            "[8,  4000] loss: 0.332\n",
            "[8,  6000] loss: 0.341\n",
            "[8,  8000] loss: 0.343\n",
            "[8, 10000] loss: 0.372\n",
            "[8, 12000] loss: 0.380\n",
            "[9,  2000] loss: 0.236\n",
            "[9,  4000] loss: 0.265\n",
            "[9,  6000] loss: 0.279\n",
            "[9,  8000] loss: 0.306\n",
            "[9, 10000] loss: 0.309\n",
            "[9, 12000] loss: 0.329\n",
            "[10,  2000] loss: 0.181\n",
            "[10,  4000] loss: 0.226\n",
            "[10,  6000] loss: 0.247\n",
            "[10,  8000] loss: 0.237\n",
            "[10, 10000] loss: 0.284\n",
            "[10, 12000] loss: 0.274\n",
            "[11,  2000] loss: 0.151\n",
            "[11,  4000] loss: 0.184\n",
            "[11,  6000] loss: 0.210\n",
            "[11,  8000] loss: 0.212\n",
            "[11, 10000] loss: 0.237\n",
            "[11, 12000] loss: 0.256\n",
            "[12,  2000] loss: 0.145\n",
            "[12,  4000] loss: 0.154\n",
            "[12,  6000] loss: 0.178\n",
            "[12,  8000] loss: 0.176\n",
            "[12, 10000] loss: 0.187\n",
            "[12, 12000] loss: 0.208\n",
            "[13,  2000] loss: 0.114\n",
            "[13,  4000] loss: 0.146\n",
            "[13,  6000] loss: 0.156\n",
            "[13,  8000] loss: 0.152\n",
            "[13, 10000] loss: 0.153\n",
            "[13, 12000] loss: 0.188\n",
            "[14,  2000] loss: 0.093\n",
            "[14,  4000] loss: 0.129\n",
            "[14,  6000] loss: 0.143\n",
            "[14,  8000] loss: 0.140\n",
            "[14, 10000] loss: 0.158\n",
            "[14, 12000] loss: 0.166\n",
            "[15,  2000] loss: 0.066\n",
            "[15,  4000] loss: 0.086\n",
            "[15,  6000] loss: 0.121\n",
            "[15,  8000] loss: 0.124\n",
            "[15, 10000] loss: 0.134\n",
            "[15, 12000] loss: 0.142\n",
            "[16,  2000] loss: 0.088\n",
            "[16,  4000] loss: 0.096\n",
            "[16,  6000] loss: 0.108\n",
            "[16,  8000] loss: 0.126\n",
            "[16, 10000] loss: 0.111\n",
            "[16, 12000] loss: 0.119\n",
            "[17,  2000] loss: 0.071\n",
            "[17,  4000] loss: 0.082\n",
            "[17,  6000] loss: 0.094\n",
            "[17,  8000] loss: 0.100\n",
            "[17, 10000] loss: 0.119\n",
            "[17, 12000] loss: 0.105\n",
            "[18,  2000] loss: 0.068\n",
            "[18,  4000] loss: 0.053\n",
            "[18,  6000] loss: 0.097\n",
            "[18,  8000] loss: 0.097\n",
            "[18, 10000] loss: 0.083\n",
            "[18, 12000] loss: 0.104\n",
            "[19,  2000] loss: 0.048\n",
            "[19,  4000] loss: 0.079\n",
            "[19,  6000] loss: 0.084\n",
            "[19,  8000] loss: 0.080\n",
            "[19, 10000] loss: 0.079\n",
            "[19, 12000] loss: 0.098\n",
            "[20,  2000] loss: 0.056\n",
            "[20,  4000] loss: 0.060\n",
            "[20,  6000] loss: 0.065\n",
            "[20,  8000] loss: 0.064\n",
            "[20, 10000] loss: 0.070\n",
            "[20, 12000] loss: 0.087\n",
            "[21,  2000] loss: 0.063\n",
            "[21,  4000] loss: 0.065\n",
            "[21,  6000] loss: 0.074\n",
            "[21,  8000] loss: 0.079\n",
            "[21, 10000] loss: 0.064\n",
            "[21, 12000] loss: 0.089\n",
            "[22,  2000] loss: 0.048\n",
            "[22,  4000] loss: 0.058\n",
            "[22,  6000] loss: 0.059\n",
            "[22,  8000] loss: 0.060\n",
            "[22, 10000] loss: 0.054\n",
            "[22, 12000] loss: 0.074\n",
            "[23,  2000] loss: 0.049\n",
            "[23,  4000] loss: 0.045\n",
            "[23,  6000] loss: 0.056\n",
            "[23,  8000] loss: 0.055\n",
            "[23, 10000] loss: 0.064\n",
            "[23, 12000] loss: 0.064\n",
            "[24,  2000] loss: 0.047\n",
            "[24,  4000] loss: 0.062\n",
            "[24,  6000] loss: 0.068\n",
            "[24,  8000] loss: 0.044\n",
            "[24, 10000] loss: 0.060\n",
            "[24, 12000] loss: 0.062\n",
            "[25,  2000] loss: 0.036\n",
            "[25,  4000] loss: 0.042\n",
            "[25,  6000] loss: 0.050\n",
            "[25,  8000] loss: 0.052\n",
            "[25, 10000] loss: 0.066\n",
            "[25, 12000] loss: 0.040\n",
            "Finished Training\n"
          ],
          "name": "stdout"
        }
      ]
    },
    {
      "cell_type": "markdown",
      "metadata": {
        "id": "KtT-5o4CJE5j"
      },
      "source": [
        "5. Test the network on the test data\n",
        "^^^^^^^^^^^^^^^^^^^^^^^^^^^^^^^^^^^^\n",
        "\n",
        "We have trained the network for 2 passes over the training dataset.\n",
        "But we need to check if the network has learnt anything at all.\n",
        "\n",
        "We will check this by predicting the class label that the neural network\n",
        "outputs, and checking it against the ground-truth. If the prediction is\n",
        "correct, we add the sample to the list of correct predictions.\n",
        "\n",
        "Okay, first step. Let us display an image from the test set to get familiar.\n",
        "\n"
      ]
    },
    {
      "cell_type": "code",
      "metadata": {
        "id": "FhPpIvCoJE5j",
        "colab": {
          "base_uri": "https://localhost:8080/",
          "height": 155
        },
        "outputId": "3266eecf-973b-4a6c-ca9a-d18c6251cb06"
      },
      "source": [
        "dataiter = iter(testloader)\n",
        "images, labels = dataiter.next()\n",
        "\n",
        "# print images\n",
        "imshow(torchvision.utils.make_grid(images))\n",
        "print('GroundTruth: ', ' '.join('%5s' % classes[labels[j]] for j in range(4)))"
      ],
      "execution_count": 53,
      "outputs": [
        {
          "output_type": "stream",
          "text": [
            "GroundTruth:    cat  ship  ship plane\n"
          ],
          "name": "stdout"
        },
        {
          "output_type": "display_data",
          "data": {
            "image/png": "[encoded data removed]",
            "text/plain": [
              "<Figure size 432x288 with 1 Axes>"
            ]
          },
          "metadata": {
            "tags": [],
            "needs_background": "light"
          }
        }
      ]
    },
    {
      "cell_type": "markdown",
      "metadata": {
        "id": "F-kO0WRDJE5k"
      },
      "source": [
        "Okay, now let us see what the neural network thinks these examples above are:\n",
        "\n"
      ]
    },
    {
      "cell_type": "code",
      "metadata": {
        "id": "5adlEBqPJE5l"
      },
      "source": [
        "outputs = net(images)"
      ],
      "execution_count": 54,
      "outputs": []
    },
    {
      "cell_type": "markdown",
      "metadata": {
        "id": "s1I9PDm6JE5l"
      },
      "source": [
        "The outputs are energies for the 10 classes.\n",
        "Higher the energy for a class, the more the network\n",
        "thinks that the image is of the particular class.\n",
        "So, let's get the index of the highest energy:\n",
        "\n"
      ]
    },
    {
      "cell_type": "code",
      "metadata": {
        "id": "vcEsshkEJE5m",
        "colab": {
          "base_uri": "https://localhost:8080/"
        },
        "outputId": "78333943-f1c5-426f-e576-84ea00879784"
      },
      "source": [
        "_, predicted = torch.max(outputs, 1)\n",
        "\n",
        "print('Predicted: ', ' '.join('%5s' % classes[predicted[j]]\n",
        "                              for j in range(4)))"
      ],
      "execution_count": 55,
      "outputs": [
        {
          "output_type": "stream",
          "text": [
            "Predicted:    cat  ship truck plane\n"
          ],
          "name": "stdout"
        }
      ]
    },
    {
      "cell_type": "markdown",
      "metadata": {
        "id": "K-lEQxTuJE5m"
      },
      "source": [
        "The results seem pretty good.\n",
        "\n",
        "Let us look at how the network performs on the whole dataset.\n",
        "\n"
      ]
    },
    {
      "cell_type": "code",
      "metadata": {
        "id": "gOk445asJE5n",
        "colab": {
          "base_uri": "https://localhost:8080/"
        },
        "outputId": "5d91e9a1-bd81-4804-f4b2-68dff07fe879"
      },
      "source": [
        "correct = 0\n",
        "total = 0\n",
        "with torch.no_grad():\n",
        "    for data in testloader:\n",
        "        images, labels = data\n",
        "        outputs = net(images)\n",
        "        _, predicted = torch.max(outputs.data, 1)\n",
        "        total += labels.size(0)\n",
        "        correct += (predicted == labels).sum().item()\n",
        "\n",
        "print('Accuracy of the network on the 10000 test images: %f %%' % (\n",
        "    100 * correct / total))"
      ],
      "execution_count": 56,
      "outputs": [
        {
          "output_type": "stream",
          "text": [
            "Accuracy of the network on the 10000 test images: 75.730000 %\n"
          ],
          "name": "stdout"
        }
      ]
    },
    {
      "cell_type": "markdown",
      "metadata": {
        "id": "bog7BQEQJE5n"
      },
      "source": [
        "That looks waaay better than chance, which is 10% accuracy (randomly picking\n",
        "a class out of 10 classes).\n",
        "Seems like the network learnt something.\n",
        "\n",
        "Hmmm, what are the classes that performed well, and the classes that did\n",
        "not perform well:\n",
        "\n"
      ]
    },
    {
      "cell_type": "code",
      "metadata": {
        "id": "XNB0OiIMJE5n",
        "colab": {
          "base_uri": "https://localhost:8080/"
        },
        "outputId": "1c7a3a04-4865-45fa-ecda-ac8cd8936c6f"
      },
      "source": [
        "class_correct = list(0. for i in range(10))\n",
        "class_total = list(0. for i in range(10))\n",
        "with torch.no_grad():\n",
        "    for data in testloader:\n",
        "        images, labels = data\n",
        "        outputs = net(images)\n",
        "        _, predicted = torch.max(outputs, 1)\n",
        "        c = (predicted == labels).squeeze()\n",
        "        for i in range(4):\n",
        "            label = labels[i]\n",
        "            class_correct[label] += c[i].item()\n",
        "            class_total[label] += 1\n",
        "\n",
        "\n",
        "for i in range(10):\n",
        "    print('Accuracy of %5s : %2d %%' % (\n",
        "        classes[i], 100 * class_correct[i] / class_total[i]))"
      ],
      "execution_count": 57,
      "outputs": [
        {
          "output_type": "stream",
          "text": [
            "Accuracy of plane : 80 %\n",
            "Accuracy of   car : 84 %\n",
            "Accuracy of  bird : 63 %\n",
            "Accuracy of   cat : 61 %\n",
            "Accuracy of  deer : 70 %\n",
            "Accuracy of   dog : 63 %\n",
            "Accuracy of  frog : 87 %\n",
            "Accuracy of horse : 82 %\n",
            "Accuracy of  ship : 83 %\n",
            "Accuracy of truck : 81 %\n"
          ],
          "name": "stdout"
        }
      ]
    },
    {
      "cell_type": "markdown",
      "metadata": {
        "id": "3fVGQFQiJE5o"
      },
      "source": [
        "Okay, so what next?\n",
        "\n",
        "How do we run these neural networks on the GPU?\n",
        "\n",
        "Training on GPU\n",
        "----------------\n",
        "Just like how you transfer a Tensor on to the GPU, you transfer the neural\n",
        "net onto the GPU.\n",
        "\n",
        "Let's first define our device as the first visible cuda device if we have\n",
        "CUDA available:\n",
        "\n"
      ]
    },
    {
      "cell_type": "code",
      "metadata": {
        "id": "Uf94MEHJJE5o",
        "colab": {
          "base_uri": "https://localhost:8080/"
        },
        "outputId": "66a61d7e-347a-4a35-bad2-705bec0e80c8"
      },
      "source": [
        "device = torch.device(\"cuda:0\" if torch.cuda.is_available() else \"cpu\")\n",
        "\n",
        "# Assume that we are on a CUDA machine, then this should print a CUDA device:\n",
        "\n",
        "print(device)"
      ],
      "execution_count": 58,
      "outputs": [
        {
          "output_type": "stream",
          "text": [
            "cuda:0\n"
          ],
          "name": "stdout"
        }
      ]
    },
    {
      "cell_type": "markdown",
      "metadata": {
        "id": "2OI2lla7JE5o"
      },
      "source": [
        "The rest of this section assumes that `device` is a CUDA device.\n",
        "\n",
        "Then these methods will recursively go over all modules and convert their\n",
        "parameters and buffers to CUDA tensors:\n",
        "\n",
        ".. code:: python\n",
        "\n",
        "    net.to(device)\n",
        "\n",
        "\n",
        "Remember that you will have to send the inputs and targets at every step\n",
        "to the GPU too:\n",
        "\n",
        ".. code:: python\n",
        "\n",
        "        inputs, labels = inputs.to(device), labels.to(device)\n",
        "\n",
        "Why dont I notice MASSIVE speedup compared to CPU? Because your network\n",
        "is realllly small.\n",
        "\n",
        "**Exercise:** Try increasing the width of your network (argument 2 of\n",
        "the first ``nn.Conv2d``, and argument 1 of the second ``nn.Conv2d`` –\n",
        "they need to be the same number), see what kind of speedup you get.\n",
        "\n",
        "**Goals achieved**:\n",
        "\n",
        "- Understanding PyTorch's Tensor library and neural networks at a high level.\n",
        "- Train a small neural network to classify images\n",
        "\n",
        "Training on multiple GPUs\n",
        "-------------------------\n",
        "If you want to see even more MASSIVE speedup using all of your GPUs,\n",
        "please check out :doc:`data_parallel_tutorial`.\n",
        "\n",
        "Where do I go next?\n",
        "-------------------\n",
        "\n",
        "-  :doc:`Train neural nets to play video games </intermediate/reinforcement_q_learning>`\n",
        "-  `Train a state-of-the-art ResNet network on imagenet`_\n",
        "-  `Train a face generator using Generative Adversarial Networks`_\n",
        "-  `Train a word-level language model using Recurrent LSTM networks`_\n",
        "-  `More examples`_\n",
        "-  `More tutorials`_\n",
        "-  `Discuss PyTorch on the Forums`_\n",
        "-  `Chat with other users on Slack`_\n",
        "\n",
        "\n"
      ]
    }
  ]
}